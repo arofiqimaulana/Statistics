{
 "cells": [
  {
   "cell_type": "code",
   "execution_count": null,
   "metadata": {},
   "outputs": [],
   "source": [
    "## Refference\n",
    "# https://docs.scipy.org/doc/scipy-0.16.1/reference/generated/scipy.stats.norm.html"
   ]
  },
  {
   "cell_type": "code",
   "execution_count": null,
   "metadata": {},
   "outputs": [],
   "source": []
  },
  {
   "cell_type": "markdown",
   "metadata": {},
   "source": [
    "### 1. Bentuk distribusi Normal dengan variasi nilai sigma"
   ]
  },
  {
   "cell_type": "code",
   "execution_count": null,
   "metadata": {},
   "outputs": [],
   "source": [
    "import numpy as np\n",
    "from scipy.stats import norm\n",
    "import seaborn as sns\n",
    "import matplotlib.pyplot as plt"
   ]
  },
  {
   "cell_type": "code",
   "execution_count": null,
   "metadata": {},
   "outputs": [],
   "source": []
  },
  {
   "cell_type": "code",
   "execution_count": null,
   "metadata": {},
   "outputs": [],
   "source": [
    "x = np.arange(-4,4,0.05) # Membuat bilangan dari -4 sd 4 dg jarak = 0.05"
   ]
  },
  {
   "cell_type": "code",
   "execution_count": null,
   "metadata": {},
   "outputs": [],
   "source": [
    "# Menghitung nilai fungsi kepekatan peluang (pdf) masing masing titik data\n",
    "y1 = norm.pdf(x,0,1) \n",
    "y2 = norm.pdf(x,0,1.5)\n",
    "y3 = norm.pdf(x,0,2)\n",
    "y4 = norm.pdf(x,0,3)"
   ]
  },
  {
   "cell_type": "code",
   "execution_count": null,
   "metadata": {},
   "outputs": [],
   "source": []
  },
  {
   "cell_type": "code",
   "execution_count": null,
   "metadata": {},
   "outputs": [],
   "source": [
    "%matplotlib inline"
   ]
  },
  {
   "cell_type": "code",
   "execution_count": null,
   "metadata": {},
   "outputs": [],
   "source": [
    "#=== Bentuk distribusi Normal dengan variasi nilai sigma\n",
    "fig = plt.figure()\n",
    "ax = fig.add_axes([0,0,1,1])\n",
    "\n",
    "ax.plot(x,y1,label = 'mu = 0, sigma = 1')\n",
    "ax.plot(x,y2,label = 'mu = 0, sigma = 1.5')\n",
    "ax.plot(x,y3,label = 'mu = 0, sigma = 2')\n",
    "ax.plot(x,y4,label = 'mu = 0, sigma = 3')\n",
    "\n",
    "ax.legend()\n",
    "plt.show()"
   ]
  },
  {
   "cell_type": "code",
   "execution_count": null,
   "metadata": {},
   "outputs": [],
   "source": []
  },
  {
   "cell_type": "markdown",
   "metadata": {},
   "source": [
    "### 2. Bentuk distribusi Normal dengan variasi nilai mu"
   ]
  },
  {
   "cell_type": "code",
   "execution_count": null,
   "metadata": {},
   "outputs": [],
   "source": [
    "x2 = np.arange(-6,6,0.05) # Membuat bilangan dari -4 sd 4 dg jarak = 0.05"
   ]
  },
  {
   "cell_type": "code",
   "execution_count": null,
   "metadata": {},
   "outputs": [],
   "source": [
    "k1 = norm.pdf(x2,0,1) \n",
    "k2 = norm.pdf(x2,-0.5,1)\n",
    "k3 = norm.pdf(x2,1,1)\n",
    "k4 = norm.pdf(x2,2,1)"
   ]
  },
  {
   "cell_type": "code",
   "execution_count": null,
   "metadata": {},
   "outputs": [],
   "source": [
    "fig = plt.figure()\n",
    "ax = fig.add_axes([0,0,1,1])\n",
    "\n",
    "ax.plot(x2,k1,label = 'mu = 0, sigma = 1')\n",
    "ax.plot(x2,k2,label = 'mu = -0.5, sigma = 1')\n",
    "ax.plot(x2,k3,label = 'mu = 1, sigma = 1')\n",
    "ax.plot(x2,k4,label = 'mu = 2, sigma = 1')\n",
    "\n",
    "ax.legend()\n",
    "plt.show()"
   ]
  },
  {
   "cell_type": "code",
   "execution_count": null,
   "metadata": {},
   "outputs": [],
   "source": []
  },
  {
   "cell_type": "markdown",
   "metadata": {},
   "source": [
    "### Mu dan Sigma berbeda"
   ]
  },
  {
   "cell_type": "code",
   "execution_count": null,
   "metadata": {},
   "outputs": [],
   "source": [
    "x3 = np.arange(-10,10,0.05)"
   ]
  },
  {
   "cell_type": "code",
   "execution_count": null,
   "metadata": {},
   "outputs": [],
   "source": [
    "c1 = norm.pdf(x3,0,1) \n",
    "c2 = norm.pdf(x3,-3,2)\n",
    "c3 = norm.pdf(x3,3,2)"
   ]
  },
  {
   "cell_type": "code",
   "execution_count": null,
   "metadata": {},
   "outputs": [],
   "source": [
    "fig = plt.figure()\n",
    "ax = fig.add_axes([0,0,1,1])\n",
    "\n",
    "ax.plot(x3,c1,label = 'mu = 0, sigma = 1')\n",
    "ax.plot(x3,c2,label = 'mu = -3, sigma = 2')\n",
    "ax.plot(x3,c3,label = 'mu = 3, sigma = 2.5')\n",
    "\n",
    "ax.legend()\n",
    "plt.show()"
   ]
  },
  {
   "cell_type": "code",
   "execution_count": null,
   "metadata": {},
   "outputs": [],
   "source": []
  }
 ],
 "metadata": {
  "kernelspec": {
   "display_name": "Python 3",
   "language": "python",
   "name": "python3"
  },
  "language_info": {
   "codemirror_mode": {
    "name": "ipython",
    "version": 3
   },
   "file_extension": ".py",
   "mimetype": "text/x-python",
   "name": "python",
   "nbconvert_exporter": "python",
   "pygments_lexer": "ipython3",
   "version": "3.6.5"
  }
 },
 "nbformat": 4,
 "nbformat_minor": 2
}
