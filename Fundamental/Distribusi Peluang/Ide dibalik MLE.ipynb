{
 "cells": [
  {
   "cell_type": "code",
   "execution_count": 42,
   "metadata": {},
   "outputs": [],
   "source": [
    "import numpy as np\n",
    "import random\n",
    "from scipy.stats import norm\n",
    "import pandas as pd"
   ]
  },
  {
   "cell_type": "markdown",
   "metadata": {},
   "source": [
    "## 1. Bangkitkan data asli (misal y)\n",
    "kita akan membangkitkan data berdistribusi normal yang akan digunakan dalam bahan penelitian ini."
   ]
  },
  {
   "cell_type": "code",
   "execution_count": 3,
   "metadata": {},
   "outputs": [],
   "source": [
    "# parameter distribusi normal\n",
    "# mu = paramter rata-rata\n",
    "# sigma = parameter standard deviasi\n",
    "# n = banyaknya nilai yang akan dibangkitkan\n",
    "mu, sigma,n = 10, 1, 10"
   ]
  },
  {
   "cell_type": "code",
   "execution_count": 5,
   "metadata": {},
   "outputs": [],
   "source": [
    "# menjaga nilai bangkitan agar tidak selalu berubah\n",
    "random.seed(101)"
   ]
  },
  {
   "cell_type": "code",
   "execution_count": 6,
   "metadata": {},
   "outputs": [],
   "source": [
    "# data asli\n",
    "y = np.random.normal(mu, sigma, n)"
   ]
  },
  {
   "cell_type": "code",
   "execution_count": 7,
   "metadata": {},
   "outputs": [
    {
     "data": {
      "text/plain": [
       "array([ 8.64541487,  8.25139599, 11.50295697,  9.69599539,  9.69607617,\n",
       "        9.44342277, 10.03003468, 10.34723585,  9.99228366,  9.80722872])"
      ]
     },
     "execution_count": 7,
     "metadata": {},
     "output_type": "execute_result"
    }
   ],
   "source": [
    "y"
   ]
  },
  {
   "cell_type": "markdown",
   "metadata": {},
   "source": [
    "# 2. Hitung f(y) berdasarkan parameter yang benar"
   ]
  },
  {
   "cell_type": "code",
   "execution_count": 8,
   "metadata": {},
   "outputs": [],
   "source": [
    "fy_benar = norm.pdf(y, 10, 1)"
   ]
  },
  {
   "cell_type": "code",
   "execution_count": 9,
   "metadata": {},
   "outputs": [
    {
     "data": {
      "text/plain": [
       "array([0.15939196, 0.08648827, 0.12894383, 0.38092684, 0.3809362 ,\n",
       "       0.34169811, 0.39876238, 0.37560211, 0.3989304 , 0.39159822])"
      ]
     },
     "execution_count": 9,
     "metadata": {},
     "output_type": "execute_result"
    }
   ],
   "source": [
    "fy_benar"
   ]
  },
  {
   "cell_type": "markdown",
   "metadata": {},
   "source": [
    "# 3. Hitung f(y) berdasarkan parameter yang salah\n",
    "Berikut merupakan hasil f(y) menggunakan parameter yang salah"
   ]
  },
  {
   "cell_type": "code",
   "execution_count": 33,
   "metadata": {},
   "outputs": [],
   "source": [
    "fy1 = norm.pdf(y, 10, 2)\n",
    "fy2 = norm.pdf(y, 10, 5)\n",
    "fy3 = norm.pdf(y, 10, 10)\n",
    "fy4 = norm.pdf(y, 10, 100)\n",
    "fy5 = norm.pdf(y, 100, 5)\n",
    "fy6 = norm.pdf(y, 100, 5)\n",
    "fy7 = norm.pdf(y, 100, 5)"
   ]
  },
  {
   "cell_type": "markdown",
   "metadata": {},
   "source": [
    "# 4. Bandingkan nilai f(y1,y2,..yn|θ)\n",
    "Kita akan bandingkan nilai likelihood dari parameter yang salah dan parameter yang benar."
   ]
  },
  {
   "cell_type": "code",
   "execution_count": 37,
   "metadata": {},
   "outputs": [],
   "source": [
    "fy_all = [fy_benar,fy1,fy2,fy3,fy4,fy5,fy6,fy7]\n",
    "fy_label = ['benar'] + 7*['salah']"
   ]
  },
  {
   "cell_type": "code",
   "execution_count": 47,
   "metadata": {},
   "outputs": [],
   "source": [
    "likelihood_all = []\n",
    "for k in fy_all:\n",
    "    result = np.prod(k)\n",
    "    likelihood_all.append(result)"
   ]
  },
  {
   "cell_type": "code",
   "execution_count": 50,
   "metadata": {},
   "outputs": [],
   "source": [
    "df_likelihood_all = pd.DataFrame(likelihood_all)\n",
    "df_likelihood_all[1] = fy_label"
   ]
  },
  {
   "cell_type": "code",
   "execution_count": 56,
   "metadata": {},
   "outputs": [],
   "source": [
    "df_likelihood_all.columns = ['Likelihood','Jenis']\n",
    "df_likelihood_all= df_likelihood_all.sort_values('Likelihood',ascending=False)"
   ]
  },
  {
   "cell_type": "code",
   "execution_count": 58,
   "metadata": {},
   "outputs": [
    {
     "data": {
      "text/html": [
       "<div>\n",
       "<style scoped>\n",
       "    .dataframe tbody tr th:only-of-type {\n",
       "        vertical-align: middle;\n",
       "    }\n",
       "\n",
       "    .dataframe tbody tr th {\n",
       "        vertical-align: top;\n",
       "    }\n",
       "\n",
       "    .dataframe thead th {\n",
       "        text-align: right;\n",
       "    }\n",
       "</style>\n",
       "<table border=\"1\" class=\"dataframe\">\n",
       "  <thead>\n",
       "    <tr style=\"text-align: right;\">\n",
       "      <th></th>\n",
       "      <th>Likelihood</th>\n",
       "      <th>Jenis</th>\n",
       "    </tr>\n",
       "  </thead>\n",
       "  <tbody>\n",
       "    <tr>\n",
       "      <th>0</th>\n",
       "      <td>2.062247e-06</td>\n",
       "      <td>benar</td>\n",
       "    </tr>\n",
       "    <tr>\n",
       "      <th>1</th>\n",
       "      <td>3.759332e-08</td>\n",
       "      <td>salah</td>\n",
       "    </tr>\n",
       "    <tr>\n",
       "      <th>2</th>\n",
       "      <td>8.945615e-12</td>\n",
       "      <td>salah</td>\n",
       "    </tr>\n",
       "    <tr>\n",
       "      <th>3</th>\n",
       "      <td>9.820940e-15</td>\n",
       "      <td>salah</td>\n",
       "    </tr>\n",
       "    <tr>\n",
       "      <th>4</th>\n",
       "      <td>1.020778e-24</td>\n",
       "      <td>salah</td>\n",
       "    </tr>\n",
       "    <tr>\n",
       "      <th>5</th>\n",
       "      <td>0.000000e+00</td>\n",
       "      <td>salah</td>\n",
       "    </tr>\n",
       "    <tr>\n",
       "      <th>6</th>\n",
       "      <td>0.000000e+00</td>\n",
       "      <td>salah</td>\n",
       "    </tr>\n",
       "    <tr>\n",
       "      <th>7</th>\n",
       "      <td>0.000000e+00</td>\n",
       "      <td>salah</td>\n",
       "    </tr>\n",
       "  </tbody>\n",
       "</table>\n",
       "</div>"
      ],
      "text/plain": [
       "     Likelihood  Jenis\n",
       "0  2.062247e-06  benar\n",
       "1  3.759332e-08  salah\n",
       "2  8.945615e-12  salah\n",
       "3  9.820940e-15  salah\n",
       "4  1.020778e-24  salah\n",
       "5  0.000000e+00  salah\n",
       "6  0.000000e+00  salah\n",
       "7  0.000000e+00  salah"
      ]
     },
     "execution_count": 58,
     "metadata": {},
     "output_type": "execute_result"
    }
   ],
   "source": [
    "\"\"\"\n",
    "Berdasarkan tabel di bawah ini, nilai likelihood yang terbesar berasal dari parameter yang benar. \n",
    "Sedangkan parameter yang salah selalu menghasilkan nilai likelihood yang lebih kecil daripada yang benar.\n",
    "\"\"\"\n",
    "df_likelihood_all"
   ]
  },
  {
   "cell_type": "markdown",
   "metadata": {},
   "source": [
    "# Kesimpulan\n",
    "Bisa ditarik kesimpulan bahwa parameter yang benar akan menghasilkan nilai likelihood yang terbesar pula. Begitulah cara kerja Maximum Likelihood Estimation yaitu mencari parameter yang sedemikian hingga nilai likelihood nya adalah yang terbesar."
   ]
  },
  {
   "cell_type": "code",
   "execution_count": null,
   "metadata": {},
   "outputs": [],
   "source": []
  }
 ],
 "metadata": {
  "kernelspec": {
   "display_name": "Python 3",
   "language": "python",
   "name": "python3"
  },
  "language_info": {
   "codemirror_mode": {
    "name": "ipython",
    "version": 3
   },
   "file_extension": ".py",
   "mimetype": "text/x-python",
   "name": "python",
   "nbconvert_exporter": "python",
   "pygments_lexer": "ipython3",
   "version": "3.8.5"
  }
 },
 "nbformat": 4,
 "nbformat_minor": 4
}
