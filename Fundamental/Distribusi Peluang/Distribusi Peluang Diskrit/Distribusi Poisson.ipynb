{
 "cells": [
  {
   "cell_type": "markdown",
   "id": "e76223bc",
   "metadata": {},
   "source": [
    "# 1. Distribusi Poisson\n",
    "Distribusi Poisson adalah distribusi probabilitas diskrit yang menyatakan probabilitas jumlah kejadian dalam interval waktu atau ruang tertentu. Beberapa contoh penggunaan distribusi Poisson di kehidupan sehari-hari meliputi:\n",
    "\n",
    "1. Panggilan Telepon\n",
    "- Konteks: Sebuah perusahaan layanan pelanggan menerima rata-rata 5 panggilan per jam.\n",
    "- Penerapan: Distribusi Poisson dapat digunakan untuk menentukan probabilitas menerima jumlah panggilan yang berbeda dalam satu jam tertentu.\n",
    "\n",
    "2. Kecelakaan Lalu Lintas\n",
    "- Konteks: Suatu perempatan memiliki rata-rata 2 kecelakaan per bulan.\n",
    "- Penerapan: Distribusi Poisson bisa digunakan untuk menghitung probabilitas terjadinya lebih dari 3 kecelakaan dalam satu bulan di perempatan tersebut.\n",
    "\n",
    "3. Kedatangan Pelanggan\n",
    "- Konteks: Sebuah bank rata-rata dilayani 10 pelanggan setiap jam.\n",
    "- Penerapan: Dapat digunakan untuk menghitung probabilitas melayani lebih dari 15 pelanggan dalam satu jam, yang dapat membantu dalam perencanaan sumber daya dan pengelolaan antrian.\n",
    "\n",
    "4. Email Spam\n",
    "- Konteks: Seorang karyawan menerima rata-rata 4 email spam per hari.\n",
    "- Penerapan: Dapat digunakan untuk menghitung probabilitas mendapatkan lebih dari 6 email spam dalam satu hari.\n",
    "\n",
    "5. Kelahiran\n",
    "- Konteks: Di sebuah rumah sakit, terjadi rata-rata 3 kelahiran setiap hari.\n",
    "- Penerapan: Distribusi Poisson bisa digunakan untuk menghitung probabilitas 5 kelahiran dalam satu hari.\n",
    "\n",
    "6. Kerusakan Produk\n",
    "- Konteks: Dalam produksi, rata-rata terdapat 1 produk cacat per 1000 produk.\n",
    "- Penerapan: Probabilitas menemukan lebih dari 2 produk cacat dalam 1000 produk berikutnya dapat dihitung menggunakan distribusi Poisson.\n",
    "\n",
    "7. Tingkah Laku Partikel\n",
    "- Konteks: Rata-rata 10 partikel alpha terdeteksi per menit oleh detektor.\n",
    "- Penerapan: Distribusi Poisson dapat digunakan untuk mengetahui peluang mendeteksi jumlah partikel tertentu dalam interval waktu tertentu.\n",
    "\n",
    "8. Tingkat Kedatangan Bus\n",
    "- Konteks: Bus datang ke halte dengan rata-rata laju 5 bus per jam.\n",
    "- Penerapan: Probabilitas kedatangan tepat 7 bus dalam satu jam bisa dihitung dengan distribusi Poisson.\n",
    "\n",
    "Dalam semua contoh di atas, perhatikan bahwa kita berbicara tentang rata-rata jumlah kejadian dalam suatu interval waktu atau ruang. Distribusi Poisson sangat berguna ketika kita memiliki rata-rata yang diketahui dan ingin mengetahui probabilitas kejadian lain dalam distribusi tersebut."
   ]
  },
  {
   "cell_type": "markdown",
   "id": "441f110f",
   "metadata": {},
   "source": [
    "# 2. Generate Data\n",
    "\n",
    "Bagaimana cara membangkitkan data yang berdistribusi Poisson ?"
   ]
  },
  {
   "cell_type": "code",
   "execution_count": 1,
   "id": "5d9acc26",
   "metadata": {},
   "outputs": [],
   "source": [
    "from scipy.stats import poisson"
   ]
  },
  {
   "cell_type": "code",
   "execution_count": 11,
   "id": "042f45eb",
   "metadata": {},
   "outputs": [
    {
     "data": {
      "text/plain": [
       "array([ 5,  6, 10,  8,  6,  6,  9,  7,  2,  6, 11,  4,  5,  6,  8,  5, 11,\n",
       "        7,  3,  8, 10,  5,  3,  2,  6,  4,  6,  9,  2,  6,  1,  6,  7,  7,\n",
       "        7,  5,  3,  6,  8,  6,  4,  6,  8,  2,  7,  8, 10,  4,  5,  5,  5,\n",
       "        7,  4,  6,  3,  5,  3,  5,  5,  5,  5,  4,  3,  4,  8,  4,  8,  5,\n",
       "        5,  5,  6,  9,  7,  4,  7,  5,  3,  4,  7, 11,  4, 10,  4,  4,  8,\n",
       "        0,  5, 11,  6, 11,  9,  6, 11,  6,  6,  8,  6,  4,  5,  7,  4,  5,\n",
       "        4,  6,  5,  8,  9,  4,  3,  3,  2,  6,  4,  6,  4,  6,  3,  7,  5,\n",
       "        6,  3,  4, 10,  4,  3,  3,  5, 11,  8,  5,  6,  4,  5,  5, 12,  6,\n",
       "        3,  5,  5,  6,  7,  9,  0,  4,  6, 13,  5,  7,  5, 12])"
      ]
     },
     "execution_count": 11,
     "metadata": {},
     "output_type": "execute_result"
    }
   ],
   "source": [
    "mu = 6\n",
    "x = poisson.rvs(mu,size = 150)\n",
    "x"
   ]
  },
  {
   "cell_type": "markdown",
   "id": "534ca199",
   "metadata": {},
   "source": [
    "# 3. Graph"
   ]
  },
  {
   "cell_type": "code",
   "execution_count": 12,
   "id": "59080cdf",
   "metadata": {},
   "outputs": [],
   "source": [
    "import warnings\n",
    "warnings.filterwarnings(\"ignore\")"
   ]
  },
  {
   "cell_type": "code",
   "execution_count": 13,
   "id": "c4a6853d",
   "metadata": {},
   "outputs": [],
   "source": [
    "from numpy import random\n",
    "import matplotlib.pyplot as plt\n",
    "import seaborn as sns"
   ]
  },
  {
   "cell_type": "code",
   "execution_count": 14,
   "id": "dc2efdb0",
   "metadata": {},
   "outputs": [
    {
     "data": {
      "image/png": "[encoded data removed]",
      "text/plain": [
       "<Figure size 640x480 with 1 Axes>"
      ]
     },
     "metadata": {},
     "output_type": "display_data"
    }
   ],
   "source": [
    "sns.distplot(x, hist=True, kde=False)\n",
    "\n",
    "plt.show()"
   ]
  },
  {
   "cell_type": "markdown",
   "id": "de4b652a",
   "metadata": {},
   "source": [
    "# 4. Case"
   ]
  },
  {
   "cell_type": "markdown",
   "id": "0938a881",
   "metadata": {},
   "source": [
    "### 4.1 Case 1\n",
    "\n",
    "Ruang gawat darurat sebuah rumah sakit akan memiliki tingkat kedatangan rata-rata pasien sebanyak 4 orang per hari. Kedatangan pasien mengikuti distribusi Poisson. Berapa peluang kejadian datangnya 2 pasien dalam sehari?"
   ]
  },
  {
   "cell_type": "markdown",
   "id": "085a7c6c",
   "metadata": {},
   "source": [
    "Solving:\n",
    "\n",
    "Misalkan X merupakan variabel acak diskret yang menyatakan banyaknya pasien yang datang ke rumah sakit tersebut dalam rentang waktu sehari. Diketahui **mu = 4** dan **k=2** sehingga peluang yang dihitung adalah\n",
    "\n",
    "\n",
    "$$ P(X=2) = ... ? $$"
   ]
  },
  {
   "cell_type": "code",
   "execution_count": 15,
   "id": "1a09f5db",
   "metadata": {},
   "outputs": [],
   "source": [
    "from scipy.stats import poisson"
   ]
  },
  {
   "cell_type": "code",
   "execution_count": 28,
   "id": "cbb6553e",
   "metadata": {},
   "outputs": [],
   "source": [
    "prob = poisson.pmf(k=2, mu=4)"
   ]
  },
  {
   "cell_type": "code",
   "execution_count": 29,
   "id": "b5331d0e",
   "metadata": {},
   "outputs": [
    {
     "name": "stdout",
     "output_type": "stream",
     "text": [
      "0.14652511110987343\n"
     ]
    }
   ],
   "source": [
    "\"\"\"\n",
    "Jadi, peluang kejadian datangnya 2 pasien dalam sehari adalah 0.1465\n",
    "\"\"\"\n",
    "print(prob)"
   ]
  },
  {
   "cell_type": "markdown",
   "id": "9c014715",
   "metadata": {},
   "source": [
    "### 4.2 Case 2"
   ]
  },
  {
   "cell_type": "markdown",
   "id": "3fa11e8e",
   "metadata": {},
   "source": [
    "Ruang gawat darurat sebuah rumah sakit akan memiliki tingkat kedatangan rata-rata pasien sebanyak 4 orang per hari. Kedatangan pasien mengikuti distribusi Poisson. Berapa peluang kejadian datangnya < 5 pasien dalam sehari?"
   ]
  },
  {
   "cell_type": "markdown",
   "id": "202c6380",
   "metadata": {},
   "source": [
    "Solving:\n",
    "\n",
    "Misalkan X merupakan variabel acak diskret yang menyatakan banyaknya pasien yang datang ke rumah sakit tersebut dalam rentang waktu sehari. Diketahui **mu = 4** dan **k=2** sehingga peluang yang dihitung adalah\n",
    "\n",
    "\n",
    "$$ P(X<5) = ... ? $$"
   ]
  },
  {
   "cell_type": "code",
   "execution_count": 30,
   "id": "a1604bc5",
   "metadata": {},
   "outputs": [
    {
     "data": {
      "text/plain": [
       "0.6288369351798734"
      ]
     },
     "execution_count": 30,
     "metadata": {},
     "output_type": "execute_result"
    }
   ],
   "source": [
    "# Menghitung P(X < 5)\n",
    "# P(X < 5) = P(X <= 4) karena X adalah variabel diskrit\n",
    "prob1 = poisson.cdf(k=4, mu=4)\n",
    "prob1"
   ]
  },
  {
   "cell_type": "code",
   "execution_count": 32,
   "id": "7b508d6f",
   "metadata": {},
   "outputs": [
    {
     "name": "stdout",
     "output_type": "stream",
     "text": [
      "0.6288369351798734\n"
     ]
    }
   ],
   "source": [
    "\"\"\"\n",
    "Jadi, peluang kejadian datangnya 2 pasien dalam sehari adalah 0.6288\n",
    "\"\"\"\n",
    "print(prob1)"
   ]
  },
  {
   "cell_type": "markdown",
   "id": "d50df4c2",
   "metadata": {},
   "source": [
    "### 4.3 Case 3\n",
    "Ruang gawat darurat sebuah rumah sakit akan memiliki tingkat kedatangan rata-rata pasien sebanyak 4 orang per hari. Kedatangan pasien mengikuti distribusi Poisson. Berapa peluang kejadian datangnya > 7 pasien dalam sehari?"
   ]
  },
  {
   "cell_type": "code",
   "execution_count": 33,
   "id": "c0161cc4",
   "metadata": {},
   "outputs": [
    {
     "data": {
      "text/plain": [
       "0.1106739784025736"
      ]
     },
     "execution_count": 33,
     "metadata": {},
     "output_type": "execute_result"
    }
   ],
   "source": [
    "# Menghitung P(X > 7)\n",
    "# P(X > 7) = P(X >= 6) karena X adalah variabel diskrit\n",
    "prob2 = poisson.sf(k=6, mu=4)\n",
    "prob2"
   ]
  },
  {
   "cell_type": "code",
   "execution_count": 35,
   "id": "e71346cc",
   "metadata": {},
   "outputs": [
    {
     "name": "stdout",
     "output_type": "stream",
     "text": [
      "0.1106739784025736\n"
     ]
    }
   ],
   "source": [
    "\"\"\"\n",
    "Jadi, peluang kejadian datangnya 2 pasien dalam sehari adalah 0.1106\n",
    "\"\"\"\n",
    "print(prob2)"
   ]
  },
  {
   "cell_type": "markdown",
   "id": "268e7819",
   "metadata": {},
   "source": [
    "# Reference\n",
    "- https://docs.scipy.org/doc/scipy/reference/generated/scipy.stats.poisson_means_test.html\n",
    "- https://mathcyber1997.com/distribusi-poisson-materi-soal-dan-pembahasan/"
   ]
  },
  {
   "cell_type": "code",
   "execution_count": null,
   "id": "7e7d6ec4",
   "metadata": {},
   "outputs": [],
   "source": []
  }
 ],
 "metadata": {
  "kernelspec": {
   "display_name": "Python 3 (ipykernel)",
   "language": "python",
   "name": "python3"
  },
  "language_info": {
   "codemirror_mode": {
    "name": "ipython",
    "version": 3
   },
   "file_extension": ".py",
   "mimetype": "text/x-python",
   "name": "python",
   "nbconvert_exporter": "python",
   "pygments_lexer": "ipython3",
   "version": "3.10.10"
  }
 },
 "nbformat": 4,
 "nbformat_minor": 5
}
