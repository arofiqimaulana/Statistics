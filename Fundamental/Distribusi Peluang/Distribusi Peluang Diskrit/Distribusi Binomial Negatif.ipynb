{
 "cells": [
  {
   "cell_type": "markdown",
   "id": "2ac4f9ee",
   "metadata": {},
   "source": [
    "# 1. Distribusi Binomial Negatif\n",
    "Distribusi binomial negatif menggambarkan jumlah percobaan Bernoulli yang diperlukan untuk mencapai sukses ke-r dalam urutan percobaan independen. Distribusi ini relevan di berbagai konteks di kehidupan sehari-hari. Berikut adalah beberapa contoh:\n",
    "\n",
    "#### 1. Teknik dan Riset\n",
    "Contoh: Uji Kualitas Produk\n",
    "\n",
    "Seorang insinyur kualitas melakukan pengujian berkelanjutan pada produk-produk yang keluar dari lini produksi untuk mencari produk cacat. Dia tertarik untuk mengetahui berapa banyak produk yang perlu diuji sebelum menemukan cacat yang ke-5. Dalam konteks ini, \"sukses\" didefinisikan sebagai menemukan produk cacat, dan insinyur tersebut tertarik pada percobaan ke berapa sukses ke-5 terjadi. Variabel acak yang mengukur jumlah percobaan untuk mencapai sukses ke-5 mengikuti distribusi binomial negatif.\n",
    "\n",
    "#### 2. Kesehatan\n",
    "Contoh: Penelitian Pengobatan\n",
    "\n",
    "Dalam sebuah penelitian pengobatan untuk obat baru, peneliti mungkin tertarik untuk mengetahui berapa banyak pasien yang perlu diuji sebelum menemukan reaksi alergi pada 3 pasien. Dalam hal ini, \"sukses\" adalah menemukan pasien dengan reaksi alergi dan peneliti tertarik pada pasien ke berapa reaksi alergi ke-3 terjadi.\n",
    "\n",
    "#### 3. Keuangan\n",
    "Contoh: Investasi Saham\n",
    "\n",
    "Seorang investor berinvestasi di pasar saham dan mengincar untuk mencapai target profit pada 3 transaksi. Dia bertanya-tanya berapa banyak transaksi yang perlu dilakukan untuk mencapai target profit pada transaksi yang ke-3. “Sukses” di sini diartikan sebagai mencapai target profit, dan variabel acak yang menunjukkan transaksi ke berapa dia mencapai sukses ke-3 mengikuti distribusi binomial negatif.\n",
    "\n",
    "#### 4. Ekologi\n",
    "Contoh: Penelitian Lapangan\n",
    "\n",
    "Seorang ekolog melakukan penelitian di lapangan mencari spesimen tertentu. Dia mungkin tertarik untuk mengetahui perlu berapa banyak spesimen yang harus diperiksa sebelum menemukan 4 spesimen dengan karakteristik khusus (mis., spesies tertentu atau mutasi). Dalam hal ini, \"sukses\" adalah menemukan spesimen dengan karakteristik khusus tersebut.\n",
    "\n",
    "#### 5. Pendidikan\n",
    "Contoh: Ujian\n",
    "\n",
    "Seorang siswa melakukan ujian berulang-ulang (misalnya, ujian sertifikasi atau kualifikasi) dan bertujuan untuk lulus 2 kali berturut-turut. Dia mungkin ingin mengetahui berapa banyak ujian yang perlu dia lakukan untuk mencapai lulusan yang kedua. \"Sukses\" dalam hal ini adalah lulus ujian.\n",
    "\n",
    "Perlu diingat bahwa distribusi binomial negatif digunakan ketika kita tertarik pada percobaan ke berapa \"sukses\" yang ketentuan (mis., ke-2, ke-3, dst.) terjadi, dan percobaan itu adalah percobaan independen dan identik yang mengikuti distribusi Bernoulli (yaitu, ada dua hasil mungkin, \"sukses\" atau \"gagal\", dengan probabilitas yang sama pada setiap percobaan)."
   ]
  },
  {
   "cell_type": "markdown",
   "id": "30b1cfb9",
   "metadata": {},
   "source": [
    "# 2. Generate Data\n",
    "\n",
    "Bagaimana cara membangkitkan data yang berdistribusi Binomial Negatif ?"
   ]
  },
  {
   "cell_type": "code",
   "execution_count": 1,
   "id": "c4ac2bf8",
   "metadata": {},
   "outputs": [],
   "source": [
    "from scipy.stats import nbinom"
   ]
  },
  {
   "cell_type": "code",
   "execution_count": 3,
   "id": "9404931f",
   "metadata": {},
   "outputs": [
    {
     "data": {
      "text/plain": [
       "array([22,  8,  4, 12, 10, 24,  7, 11, 18,  9,  7, 21, 31, 12,  5, 13, 13,\n",
       "       15, 23,  2, 15,  8, 13, 11, 23, 12, 22, 24,  5,  8, 18, 13, 13, 11,\n",
       "        6, 19,  8,  6,  7, 12, 10,  7, 19, 20,  2, 23, 20, 14, 18,  9, 15,\n",
       "        5, 15,  8, 11, 12, 10, 10, 18, 25, 10, 14, 10,  7, 15,  5,  9, 29,\n",
       "        9, 15, 12, 12, 29, 25,  9, 10, 15, 10, 20, 15, 26, 14,  9,  3,  6,\n",
       "        7, 15,  7, 21,  1, 11, 10, 16, 11, 19, 16, 11, 23,  9,  1,  7, 22,\n",
       "        3, 11,  8, 13, 11,  8,  8, 18,  6, 20,  4, 15, 13, 20, 13, 56, 13,\n",
       "        5,  7, 17, 14,  6,  7,  9, 24, 13, 10, 18, 25, 18,  3,  6, 10, 18,\n",
       "        2,  7, 12, 12,  6, 15,  8,  5,  9,  8, 13, 16,  8,  7, 34, 16, 14,\n",
       "       24, 13, 12,  5, 12,  7, 11, 29, 12, 11,  5,  4,  6, 31, 11,  4,  9,\n",
       "       10,  9, 14, 14, 12, 21, 13,  8, 26, 15, 13,  5,  2,  6, 25, 12,  2,\n",
       "       16,  9,  6, 10, 10,  3, 11, 12, 21, 13, 13,  8,  9, 22, 37,  8,  4,\n",
       "        8, 14, 18, 15, 11, 10, 10, 15, 18,  5, 25,  6,  6, 29,  5, 18,  5,\n",
       "       10, 20,  6,  7, 22,  7,  5, 22,  4, 11,  6, 21, 29, 12,  8, 12, 15,\n",
       "        8, 14,  3,  3, 22, 12, 19, 11, 11,  8,  3, 12,  8, 21, 17,  9, 11,\n",
       "       20, 11, 13,  4,  3, 12, 15,  5, 26, 19, 18, 15,  9, 10, 10, 17,  9,\n",
       "       20, 17, 14,  3,  7,  7,  5,  4, 19, 11, 10, 10,  8,  6, 28,  4, 12,\n",
       "       13,  8, 36, 10, 10, 17, 18, 20,  8, 12, 13,  6,  8, 19, 11, 17,  9,\n",
       "        8,  5,  3,  6,  6, 12,  7, 17, 32,  9,  7, 13, 20,  7,  7, 16, 15,\n",
       "        5, 23,  9, 10, 15, 15, 20, 43, 14,  5, 14, 19, 10, 16, 13,  8, 35,\n",
       "       11,  9,  9, 14, 12, 12, 11, 16,  4,  9,  5, 19, 22, 18, 15,  6, 13,\n",
       "        7,  2, 14,  2, 11, 13, 12,  8,  8,  6, 16, 20, 16, 10,  8,  2,  5,\n",
       "       16,  6,  6, 14,  6, 13,  8, 32, 21, 11,  9, 14,  9, 12, 11,  5, 22,\n",
       "       10, 10,  6, 10,  8,  5, 14, 15,  6, 12,  2, 13,  8, 16, 12, 11,  6,\n",
       "        9,  8, 10, 18,  5, 16,  9, 16, 16, 12,  6,  6, 11, 22, 15, 11, 11,\n",
       "        6, 13,  7, 10, 12, 17,  8,  5,  9,  8, 25,  8, 10, 26, 23,  3,  9,\n",
       "        8, 13, 23,  8, 10, 14,  5,  6, 11,  6, 21, 10, 14,  5, 15, 12, 10,\n",
       "       13,  8, 15, 10,  6, 12,  4, 10,  2,  4,  2, 31,  8, 22, 13,  7, 20,\n",
       "        6,  4, 12, 11,  8, 12, 10, 16, 18,  9, 14,  3,  6, 10, 14,  6,  2,\n",
       "        2,  7, 15,  9,  7, 11, 10])"
      ]
     },
     "execution_count": 3,
     "metadata": {},
     "output_type": "execute_result"
    }
   ],
   "source": [
    "n = 5  # Jumlah keberhasilan yang diinginkan\n",
    "p = 0.3  # Probabilitas keberhasilan dalam satu percobaan\n",
    "size = 500  # Jumlah sampel yang ingin dihasilkan\n",
    "\n",
    "x = nbinom.rvs(n, p, size=size)\n",
    "x"
   ]
  },
  {
   "cell_type": "markdown",
   "id": "ed643745",
   "metadata": {},
   "source": [
    "# 3. Graph"
   ]
  },
  {
   "cell_type": "code",
   "execution_count": 6,
   "id": "e63bf797",
   "metadata": {},
   "outputs": [
    {
     "data": {
      "image/png": "[encoded data removed]",
      "text/plain": [
       "<Figure size 640x480 with 1 Axes>"
      ]
     },
     "metadata": {},
     "output_type": "display_data"
    }
   ],
   "source": [
    "import matplotlib.pyplot as plt\n",
    "# Jika Anda ingin memvisualisasikan distribusi sampel dengan histogram:\n",
    "plt.hist(x, bins=max(x)-min(x), density=True, alpha=0.6, color='g')\n",
    "plt.title(\"Histogram of Generated Negative Binomial Data\")\n",
    "plt.xlabel(\"Value\")\n",
    "plt.ylabel(\"Frequency\")\n",
    "plt.show()"
   ]
  },
  {
   "cell_type": "markdown",
   "id": "2c2cd332",
   "metadata": {},
   "source": [
    "# 4. Case"
   ]
  },
  {
   "cell_type": "markdown",
   "id": "bed1041e",
   "metadata": {},
   "source": [
    "### Case 1\n",
    "Peluang seseorang yang tinggal di kota memelihara anjing adalah 0.3. Tentukan peluang bahwa orang kesepuluh yang secara acak diwawancarai di kota tersebut merupakan orang kelima yang memelihara anjing."
   ]
  },
  {
   "cell_type": "markdown",
   "id": "b947909a",
   "metadata": {},
   "source": [
    "Dalam kasus yang diberikan:\n",
    "\n",
    "- k=5 (kita mencari orang yang kelima yang memelihara anjing)\n",
    "- x=10 (orang kesepuluh adalah orang yang kelima yang memelihara anjing)\n",
    "- p=0.3 (probabilitas seseorang memelihara anjing)"
   ]
  },
  {
   "cell_type": "code",
   "execution_count": 12,
   "id": "7b1da80c",
   "metadata": {},
   "outputs": [],
   "source": [
    "from scipy.stats import nbinom\n",
    "\n",
    "k = 5  # Jumlah keberhasilan yang diinginkan\n",
    "p = 0.3  # Probabilitas keberhasilan dalam satu percobaan\n",
    "x = 10  # Jumlah percobaan yang dibutuhkan untuk mencapai keberhasilan ke-k\n",
    "\n",
    "# Menggunakan scipy.stats untuk menghitung P(X = x)\n",
    "prob = nbinom.pmf(k, x, p)  "
   ]
  },
  {
   "cell_type": "code",
   "execution_count": 13,
   "id": "42a23b4d",
   "metadata": {},
   "outputs": [
    {
     "data": {
      "text/plain": [
       "0.0019868579590859962"
      ]
     },
     "execution_count": 13,
     "metadata": {},
     "output_type": "execute_result"
    }
   ],
   "source": [
    "\"\"\"\n",
    "Jadi peluang bahwa orang kesepuluh yang secara acak diwawancarai di kota tersebut merupakan \n",
    "orang kelima yang memelihara anjing adalah 0.001\n",
    "\"\"\"\n",
    "prob"
   ]
  },
  {
   "cell_type": "markdown",
   "id": "3a32b259",
   "metadata": {},
   "source": [
    "### Case 2\n",
    "Dalam dunia pemasaran online, rata-rata seorang marketer mendapatkan satu pelanggan baru dari setiap 7 calon pelanggan yang dihubungi. Berapa peluang bahwa seorang marketer memerlukan menghubungi paling banyak 6 calon pelanggan untuk mendapatkan 4 pelanggan baru?"
   ]
  },
  {
   "cell_type": "code",
   "execution_count": 21,
   "id": "f0baae18",
   "metadata": {},
   "outputs": [
    {
     "data": {
      "text/plain": [
       "0.0010611938605636915"
      ]
     },
     "execution_count": 21,
     "metadata": {},
     "output_type": "execute_result"
    }
   ],
   "source": [
    "from scipy.stats import nbinom\n",
    "\n",
    "# Parameter distribusi\n",
    "k = 4  # Jumlah pelanggan baru yang diinginkan\n",
    "p = 1/7  # Probabilitas mendapatkan pelanggan baru\n",
    "\n",
    "# Menghitung P(X <= 25)\n",
    "prob = nbinom.cdf(k, 6, p)\n",
    "prob"
   ]
  },
  {
   "cell_type": "code",
   "execution_count": 23,
   "id": "a89aa1a1",
   "metadata": {},
   "outputs": [
    {
     "data": {
      "text/plain": [
       "0.0010611938605636915"
      ]
     },
     "execution_count": 23,
     "metadata": {},
     "output_type": "execute_result"
    }
   ],
   "source": [
    "\"\"\"\n",
    "Jadi peluang bahwa seorang marketer memerlukan menghubungi paling banyak 6 calon pelanggan \n",
    "untuk mendapatkan 4 pelanggan baru adalah 0.0010\n",
    "\"\"\"\n",
    "prob"
   ]
  },
  {
   "cell_type": "code",
   "execution_count": null,
   "id": "190aa54b",
   "metadata": {},
   "outputs": [],
   "source": []
  }
 ],
 "metadata": {
  "kernelspec": {
   "display_name": "Python 3 (ipykernel)",
   "language": "python",
   "name": "python3"
  },
  "language_info": {
   "codemirror_mode": {
    "name": "ipython",
    "version": 3
   },
   "file_extension": ".py",
   "mimetype": "text/x-python",
   "name": "python",
   "nbconvert_exporter": "python",
   "pygments_lexer": "ipython3",
   "version": "3.10.10"
  }
 },
 "nbformat": 4,
 "nbformat_minor": 5
}
