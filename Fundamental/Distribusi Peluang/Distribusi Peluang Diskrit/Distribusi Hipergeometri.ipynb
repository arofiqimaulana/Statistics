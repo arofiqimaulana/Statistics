{
 "cells": [
  {
   "cell_type": "markdown",
   "id": "f8fdcccf",
   "metadata": {},
   "source": [
    "# 1. Distribusi Hipergeometri\n",
    "\n",
    "Distribusi hipergeometri menggambarkan probabilitas memilih sukses atau kegagalan dari kumpulan populasi tanpa pengembalian. Jika kita mendefinisikan “sukses” sebagai memilih item dengan karakteristik tertentu, maka distribusi hipergeometri menggambarkan probabilitas memilih sejumlah \n",
    "k sukses dalam n pengambilan tanpa pengembalian dari populasi yang berisi N item, di mana K item adalah sukses.\n",
    "\n",
    "Contoh Penerapan dalam Kehidupan Sehari-Hari\n",
    "1. Seleksi Sampel Kualitas\n",
    "\n",
    "Sebuah perusahaan produksi mainan memproduksi 1000 mainan per hari. Pengendalian kualitas perusahaan tersebut ingin menilai kualitas produksi hari itu. Mereka memutuskan untuk mengambil sampel 100 mainan untuk diuji. Dari pengalaman, mereka tahu bahwa rata-rata terdapat 50 mainan yang cacat dalam produksi harian. Dalam hal ini, distribusi hipergeometri dapat digunakan untuk menghitung probabilitas menemukan sejumlah mainan cacat dalam sampel yang diambil.\n",
    "\n",
    "2. Pemilihan Kartu dari Setumpuk Kartu\n",
    "\n",
    "Anggap kita memiliki setumpuk kartu berjumlah 52 buah. Di antara kartu-kartu tersebut, terdapat 4 kartu as. Jika kita mengambil 5 kartu tanpa mengembalikan kartu-kartu yang sudah diambil, kita bisa menggunakan distribusi hipergeometri untuk menghitung peluang mendapatkan jumlah kartu as tertentu dalam 5 kartu yang kita ambil.\n",
    "\n",
    "3. Pemilihan Anggota Tim\n",
    "\n",
    "Bayangkan ada 20 pegawai di sebuah kantor, dan 5 dari mereka adalah manajer. Jika kita memilih 6 pegawai secara acak tanpa pengembalian untuk mengerjakan proyek khusus, distribusi hipergeometri dapat digunakan untuk menghitung probabilitas bahwa proyek tersebut akan diurus oleh sejumlah manajer tertentu.\n",
    "\n",
    "4. Seleksi Bibit Tanaman\n",
    "\n",
    "Seorang petani memiliki 1000 biji benih, dan dia tahu bahwa 100 di antaranya tidak subur. Jika dia menanam 100 biji benih tanpa seleksi lebih lanjut, dia bisa menggunakan distribusi hipergeometri untuk menghitung probabilitas sejumlah biji benih tidak subur terpilih dan ditanam.\n",
    "\n",
    "Dalam kehidupan sehari-hari, distribusi hipergeometri muncul kapan saja kita melakukan pengambilan acak tanpa pengembalian dari populasi yang terdiri dari dua jenis item atau kelompok. Itu mengukur probabilitas memilih sejumlah item spesifik dari satu jenis tanpa memperhatikan item dari jenis yang lain."
   ]
  },
  {
   "cell_type": "markdown",
   "id": "106ad69a",
   "metadata": {},
   "source": [
    "# 2. Generate Data\n",
    "\n",
    "Bagaimana cara membangkitkan data yang berdistribusi Hipergeometri ?"
   ]
  },
  {
   "cell_type": "code",
   "execution_count": 2,
   "id": "4a7198c6",
   "metadata": {},
   "outputs": [],
   "source": [
    "from scipy.stats import hypergeom"
   ]
  },
  {
   "cell_type": "code",
   "execution_count": 7,
   "id": "797da734",
   "metadata": {},
   "outputs": [
    {
     "data": {
      "text/plain": [
       "array([22, 19, 23, 22, 24, 20, 17, 19, 16, 25, 17, 17, 18, 19, 25, 22, 16,\n",
       "       20, 20, 22, 20, 20, 19, 18, 16, 23, 19, 18, 17, 18, 22, 18, 20, 20,\n",
       "       22, 18, 19, 23, 22, 21, 20, 24, 18, 22, 16, 18, 20, 18, 23, 18, 22,\n",
       "       13, 21, 22, 22, 24, 20, 24, 17, 20, 19, 20, 22, 17, 20, 22, 20, 19,\n",
       "       22, 24, 19, 23, 18, 20, 20, 18, 24, 22, 21, 22, 24, 19, 20, 19, 18,\n",
       "       22, 19, 18, 16, 20, 23, 22, 20, 21, 22, 20, 20, 24, 24, 19, 16, 20,\n",
       "       23, 19, 22, 17, 20, 18, 18, 17, 18, 20, 23, 17, 22, 24, 25, 20, 20,\n",
       "       19, 14, 23, 20, 21, 20, 19, 21, 24, 20, 14, 21, 17, 21, 17, 21, 23,\n",
       "       17, 22, 22, 19, 22, 25, 15, 19, 18, 19, 16, 18, 22, 22, 17, 17, 22,\n",
       "       18, 18, 16, 19, 20, 22, 20, 18, 19, 20, 21, 24, 21, 18, 16, 23, 18,\n",
       "       23, 24, 19, 19, 18, 20, 23, 18, 18, 18, 21, 18, 21, 17, 21, 19, 22,\n",
       "       26, 19, 21, 22, 18, 20, 19, 18, 26, 20, 24, 20, 17, 24, 20, 19, 19,\n",
       "       18, 22, 18, 20, 19, 17, 21, 21, 18, 18, 21, 20, 21, 19, 16, 19, 23,\n",
       "       26, 18, 22, 19, 17, 19, 21, 17, 20, 18, 20, 18, 21, 26, 23, 23, 19,\n",
       "       20, 20, 20, 22, 23, 20, 18, 13, 21, 20, 19, 22, 20, 17, 24, 15, 21,\n",
       "       21, 19, 20, 20, 24, 19, 20, 21, 23, 16, 21, 22, 16, 17, 19, 18, 20,\n",
       "       20, 19, 19, 18, 19, 23, 22, 23, 21, 23, 21, 23, 21, 18, 17, 24, 17,\n",
       "       23, 18, 19, 19, 20, 18, 17, 18, 20, 20, 20, 23, 24, 22, 23, 19, 19,\n",
       "       19, 20, 19, 24, 19, 18, 18, 21, 19, 19, 16, 18, 21, 17, 18, 22, 21,\n",
       "       18, 19, 16, 18, 20, 14, 16, 22, 15, 21, 25, 19, 17, 24, 24, 21, 20,\n",
       "       21, 17, 16, 18, 22, 20, 19, 22, 20, 19, 23, 17, 21, 19, 18, 20, 20,\n",
       "       19, 18, 23, 19, 23, 22, 19, 20, 22, 22, 23, 21, 17, 17, 17, 23, 19,\n",
       "       19, 22, 16, 21, 20, 21, 21, 20, 17, 16, 18, 17, 22, 21, 24, 19, 20,\n",
       "       18, 21, 15, 22, 21, 19, 20, 19, 18, 19, 24, 19, 17, 20, 23, 23, 20,\n",
       "       20, 21, 25, 17, 18, 18, 21, 20, 19, 20, 22, 23, 19, 21, 20, 22, 19,\n",
       "       21, 20, 22, 17, 20, 19, 21, 20, 20, 21, 19, 20, 17, 22, 23, 19, 22,\n",
       "       20, 20, 24, 18, 20, 22, 21, 19, 18, 24, 21, 19, 20, 23, 17, 17, 19,\n",
       "       22, 20, 21, 25, 20, 20, 16, 22, 19, 25, 20, 17, 20, 15, 23, 21, 20,\n",
       "       20, 19, 25, 22, 22, 17, 19, 21, 23, 17, 17, 18, 20, 20, 22, 16, 24,\n",
       "       18, 19, 19, 21, 18, 21, 21, 24, 22, 23, 18, 19, 17, 21, 18, 21, 21,\n",
       "       20, 22, 17, 23, 22, 18, 17, 22, 19, 23, 18, 22, 19, 17, 20, 21, 25,\n",
       "       21, 19, 22, 21, 19, 21, 22, 18, 22, 19, 18, 20, 21, 19, 18, 18, 20,\n",
       "       19, 21, 20, 19, 22, 21, 18, 18, 21, 17, 21, 24, 20, 19, 20, 15, 19,\n",
       "       19, 20, 20, 18, 20, 19, 24, 22, 14, 18, 24, 23, 21, 14, 19, 18, 21,\n",
       "       21, 20, 22, 18, 23, 18, 17, 16, 18, 21, 20, 20, 21, 24, 19, 17, 22,\n",
       "       19, 23, 20, 22, 20, 23, 26, 22, 16, 19, 17, 20, 17, 21, 19, 16, 20,\n",
       "       23, 22, 21, 20, 22, 22, 19, 20, 17, 22, 21, 21, 20, 18, 18, 22, 22,\n",
       "       20, 21, 19, 20, 22, 18, 20, 22, 16, 19, 23, 16, 19, 20, 19, 23, 19,\n",
       "       18, 22, 22, 22, 18, 21, 19, 16, 23, 20, 23, 19, 19, 20, 19, 21, 23,\n",
       "       24, 23, 22, 19, 21, 21, 19, 19, 19, 22, 21, 24, 17, 18, 17, 27, 20,\n",
       "       20, 21, 22, 20, 21, 21, 21, 20, 19, 20, 21, 22, 19, 22, 18, 22, 19,\n",
       "       24, 19, 17, 21, 19, 22, 17, 23, 18, 21, 21, 22, 23, 21, 21, 21, 19,\n",
       "       21, 21, 23, 20, 19, 19, 21, 18, 22, 20, 21, 16, 24, 20, 17, 15, 19,\n",
       "       20, 20, 22, 18, 22, 23, 21, 18, 22, 20, 23, 20, 24, 18, 20, 21, 18,\n",
       "       19, 18, 17, 17, 23, 18, 15, 24, 19, 22, 17, 19, 19, 20, 18, 24, 19,\n",
       "       17, 15, 18, 17, 16, 20, 20, 20, 20, 18, 21, 17, 17, 18, 21, 19, 17,\n",
       "       23, 19, 22, 19, 20, 20, 22, 19, 23, 20, 17, 17, 21, 19, 21, 19, 19,\n",
       "       22, 22, 19, 16, 18, 21, 16, 17, 20, 18, 18, 20, 19, 19, 20, 20, 23,\n",
       "       20, 19, 18, 18, 24, 20, 23, 16, 21, 23, 19, 21, 21, 24, 19, 19, 21,\n",
       "       23, 20, 21, 20, 19, 20, 21, 23, 19, 16, 25, 17, 16, 22, 21, 19, 19,\n",
       "       20, 22, 21, 19, 22, 20, 22, 19, 20, 20, 19, 19, 19, 19, 19, 19, 19,\n",
       "       22, 21, 18, 18, 15, 19, 18, 20, 20, 23, 20, 18, 20, 16, 21, 22, 19,\n",
       "       19, 20, 17, 19, 22, 24, 19, 20, 25, 15, 22, 18, 19, 19, 24, 17, 21,\n",
       "       21, 20, 22, 20, 25, 19, 18, 21, 21, 21, 22, 24, 18, 20, 17, 17, 21,\n",
       "       22, 19, 21, 20, 21, 17, 24, 18, 20, 21, 18, 21, 21, 16, 15, 21, 25,\n",
       "       19, 24, 22, 21, 21, 20, 21, 16, 22, 20, 17, 22, 22, 22, 20, 19, 22,\n",
       "       19, 21, 22, 20, 22, 21, 20, 19, 21, 26, 17, 22, 21, 22, 21, 21, 17,\n",
       "       17, 16, 20, 20, 21, 22, 21, 22, 15, 19, 25, 17, 19, 17, 23, 19, 20,\n",
       "       17, 19, 19, 20, 18, 16, 20, 20, 23, 25, 19, 22, 13, 19])"
      ]
     },
     "execution_count": 7,
     "metadata": {},
     "output_type": "execute_result"
    }
   ],
   "source": [
    "import numpy as np\n",
    "import matplotlib.pyplot as plt\n",
    "\n",
    "# Parameter distribusi hipergeometrik\n",
    "NGood = 100  # jumlah item baik\n",
    "NBad = 50    # jumlah item buruk\n",
    "nsample = 30 # jumlah item yang diambil dalam satu pengambilan\n",
    "\n",
    "# Membangkitkan data berdistribusi hipergeometrik\n",
    "sample_size = 1000\n",
    "data = np.random.hypergeometric(NGood, NBad, nsample, sample_size)\n",
    "data"
   ]
  },
  {
   "cell_type": "markdown",
   "id": "a6862648",
   "metadata": {},
   "source": [
    "# 3. Graph"
   ]
  },
  {
   "cell_type": "code",
   "execution_count": 4,
   "id": "08e463c7",
   "metadata": {},
   "outputs": [
    {
     "data": {
      "image/png": "[encoded data removed]",
      "text/plain": [
       "<Figure size 640x480 with 1 Axes>"
      ]
     },
     "metadata": {},
     "output_type": "display_data"
    }
   ],
   "source": [
    "# Visualisasi data dengan histogram\n",
    "plt.hist(data, bins=range(min(data), max(data) + 1), alpha=0.75, density=True)\n",
    "plt.title('Random Data with Hypergeometric Distribution')\n",
    "plt.xlabel('Number of Good Items in the Sample')\n",
    "plt.ylabel('Frequency (normalized)')\n",
    "plt.grid(axis='y', alpha=0.75)\n",
    "plt.show()"
   ]
  },
  {
   "cell_type": "markdown",
   "id": "740c1b73",
   "metadata": {},
   "source": [
    "Anda memiliki sebuah tempat (urn) yang berisi 15 batu marmer putih dan 15 batu marmer hitam. Jika Anda mengambil 15 batu marmer secara acak, seberapa besar kemungkinan bahwa 12 atau lebih dari batu marmer yang Anda ambil berwarna sama (entah itu putih atau hitam)?"
   ]
  },
  {
   "cell_type": "markdown",
   "id": "38ae3dbb",
   "metadata": {},
   "source": [
    "# 4.Case"
   ]
  },
  {
   "cell_type": "markdown",
   "id": "63cd02b9",
   "metadata": {},
   "source": [
    "### Case 1\n",
    "Contoh kasusnya adalah di suatu forum beranggotakan 28 orang yang diantaranya terdapat 10 programmer, 8 marketer, dan 7 Designer, dan 3 Analyst untuk kepentingan lomba. Kemudian 6 orang dipanggil. Berapakah peluang akan terambil 2 orang analyst ?\n",
    "\n",
    "Berdasarkan contoh tersebut dapat terlihat bahwa N = 28, K = 3, n = 6, k = 2."
   ]
  },
  {
   "cell_type": "code",
   "execution_count": 8,
   "id": "e1c2b853",
   "metadata": {},
   "outputs": [],
   "source": [
    "from scipy.stats import hypergeom\n",
    "\n",
    "# Parameter\n",
    "M = 28  # Jumlah total individu\n",
    "n = 3   # Jumlah analyst\n",
    "N = 6   # Jumlah individu yang dipilih\n",
    "k = 2   # Jumlah analyst yang kita ingin tahu peluangnya untuk terpilih\n",
    "\n",
    "# Mendefinisikan distribusi dan menghitung peluang\n",
    "rv = hypergeom(M, n, N)\n",
    "prob = rv.pmf(k)"
   ]
  },
  {
   "cell_type": "code",
   "execution_count": 10,
   "id": "6aa6399d",
   "metadata": {},
   "outputs": [
    {
     "data": {
      "text/plain": [
       "0.10073260073260071"
      ]
     },
     "execution_count": 10,
     "metadata": {},
     "output_type": "execute_result"
    }
   ],
   "source": [
    "\"\"\"\n",
    "Jadi peluang 2 analyst terpilih adalah 0.1007\n",
    "\"\"\"\n",
    "prob"
   ]
  },
  {
   "cell_type": "markdown",
   "id": "20a32a4d",
   "metadata": {},
   "source": [
    "### Case 2\n",
    "\n",
    "Contoh kasusnya adalah di suatu forum beranggotakan 28 orang yang diantaranya terdapat 10 programmer, 8 marketer, dan 7 Designer, dan 3 Analyst untuk kepentingan lomba. Kemudian 6 orang dipanggil. Berapakah peluang akan terambil > 2 orang analyst ?\n"
   ]
  },
  {
   "cell_type": "code",
   "execution_count": 11,
   "id": "6662b1d2",
   "metadata": {},
   "outputs": [],
   "source": [
    "# Mendefinisikan distribusi\n",
    "rv = hypergeom(M=28, n=3, N=6)\n",
    "\n",
    "# Menghitung peluang untuk X <= 2\n",
    "prob_less_than_or_equal_2 = rv.cdf(2)\n",
    "\n",
    "# Menghitung peluang untuk X > 2\n",
    "prob_greater_than_2 = 1 - prob_less_than_or_equal_2"
   ]
  },
  {
   "cell_type": "code",
   "execution_count": 12,
   "id": "4fb5375c",
   "metadata": {},
   "outputs": [
    {
     "data": {
      "text/plain": [
       "0.006105006105006083"
      ]
     },
     "execution_count": 12,
     "metadata": {},
     "output_type": "execute_result"
    }
   ],
   "source": [
    "\"\"\"\n",
    "jadi peluang terambil > 2 orang analyst adalah 0.0061\n",
    "\"\"\"\n",
    "prob_greater_than_2"
   ]
  },
  {
   "cell_type": "markdown",
   "id": "e4612c2f",
   "metadata": {},
   "source": [
    "### Case 3\n",
    "Contoh kasusnya adalah di suatu forum beranggotakan 28 orang yang diantaranya terdapat 10 programmer, 8 marketer, dan 7 Designer, dan 3 Analyst untuk kepentingan lomba. Kemudian 6 orang dipanggil. Berapakah peluang akan terambil <= 1 orang analyst ?"
   ]
  },
  {
   "cell_type": "code",
   "execution_count": 13,
   "id": "df0328f8",
   "metadata": {},
   "outputs": [],
   "source": [
    "# Mendefinisikan distribusi\n",
    "rv = hypergeom(M=28, n=3, N=6)\n",
    "\n",
    "# Menghitung peluang untuk X <= 1\n",
    "prob_less_than_or_equal_1 = rv.cdf(1)"
   ]
  },
  {
   "cell_type": "code",
   "execution_count": 15,
   "id": "a17dba18",
   "metadata": {},
   "outputs": [
    {
     "data": {
      "text/plain": [
       "0.8931623931623932"
      ]
     },
     "execution_count": 15,
     "metadata": {},
     "output_type": "execute_result"
    }
   ],
   "source": [
    "\"\"\"\n",
    "jadi peluang terambil <= 1 orang analyst adalah 0.8931\n",
    "\"\"\"\n",
    "prob_less_than_or_equal_1"
   ]
  },
  {
   "cell_type": "markdown",
   "id": "63217cb8",
   "metadata": {},
   "source": [
    "# Reference\n",
    "- https://numpy.org/doc/stable/reference/random/generated/numpy.random.hypergeometric.html"
   ]
  },
  {
   "cell_type": "code",
   "execution_count": null,
   "id": "1a8b3183",
   "metadata": {},
   "outputs": [],
   "source": []
  }
 ],
 "metadata": {
  "kernelspec": {
   "display_name": "Python 3 (ipykernel)",
   "language": "python",
   "name": "python3"
  },
  "language_info": {
   "codemirror_mode": {
    "name": "ipython",
    "version": 3
   },
   "file_extension": ".py",
   "mimetype": "text/x-python",
   "name": "python",
   "nbconvert_exporter": "python",
   "pygments_lexer": "ipython3",
   "version": "3.10.10"
  }
 },
 "nbformat": 4,
 "nbformat_minor": 5
}
