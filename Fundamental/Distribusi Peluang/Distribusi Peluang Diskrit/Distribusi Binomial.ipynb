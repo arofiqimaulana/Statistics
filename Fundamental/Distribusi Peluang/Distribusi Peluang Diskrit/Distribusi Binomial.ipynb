{
 "cells": [
  {
   "cell_type": "markdown",
   "id": "c7068ff2",
   "metadata": {},
   "source": [
    "# 1. Distribusi Binomial\n",
    "\n",
    "Contoh aplikasi distribusi binomial di berbagai bidang\n",
    "\n",
    "### 1.1 Lemparan Koin\n",
    "- Konteks: Melakukan lemparan koin sebanyak n kali dan menghitung jumlah munculnya kepala.\n",
    "- Penerapan: Misalnya P(X=k) adalah probabilitas mendapatkan tepat k kepala dalam n lemparan.\n",
    "\n",
    "### 2.1 Ujian Pilihan Ganda\n",
    "- Konteks: Seorang siswa menebak jawaban pada ujian pilihan ganda yang memiliki n pertanyaan dan ingin tahu probabilitas menebak benar k jawaban tanpa membaca materi.\n",
    "- Penerapan: Menggunakan distribusi binomial, kita bisa menghitung P(X=k), probabilitas menebak benar k jawaban dari n pertanyaan dengan masing-masing memiliki peluang penebakan benar p.\n",
    "### 3.1 Kontrol Kualitas Produk\n",
    "- Konteks: Dalam inspeksi kualitas, seorang inspektur mengambil sampel n produk dan memeriksa berapa banyak di antaranya yang cacat.\n",
    "- Penerapan: Jika kita tahu probabilitas sebuah produk adalah cacat (misalkan p), kita bisa menggunakan distribusi binomial untuk menghitung probabilitas bahwa tepat k dari n produk yang diperiksa akan cacat.\n",
    "\n",
    "### 4.1 Pemilihan Acak\n",
    "- Konteks: Dalam sebuah kelompok dari N orang, kita memilih n orang secara acak dan kita ingin tahu peluang bahwa k dari mereka memiliki karakteristik tertentu (misalnya, golongan darah tertentu).\n",
    "- Penerapan: Jika kita tahu p, probabilitas seorang individu acak memiliki karakteristik tersebut, kita bisa gunakan distribusi binomial untuk menghitung P(X=k).\n",
    "\n",
    "### 5.1 Biologi dan Penelitian Kesehatan\n",
    "- Konteks: Melakukan n eksperimen laboratorium dan mencatat kemunculan suatu kejadian (misal, reaksi terhadap obat).\n",
    "- Penerapan: Jika kita tahu p, probabilitas kejadian tersebut dalam satu eksperimen, kita bisa menggunakan distribusi binomial untuk menghitung peluang terjadinya kejadian tersebut k kali dalam  n eksperimen.\n",
    "\n",
    "### 6.1 Pemasaran\n",
    "- Konteks: Seorang pemasar mengirimkan n email promosi dan tertarik untuk mengetahui probabilitas mendapatkan k respons.\n",
    "- Penerapan: Jika diketahui bahwa probabilitas mendapatkan respons dari satu email adalah p, maka probabilitas mendapatkan k respons dari n email dapat dihitung dengan distribusi binomial.\n",
    "\n",
    "\n",
    "\n",
    "Keseluruhan contoh di atas mencerminkan bagaimana distribusi binomial dapat diterapkan dalam berbagai konteks di kehidupan sehari-hari, mencakup beragam bidang seperti statistik, ekonomi, biologi, psikologi, dan banyak lagi."
   ]
  },
  {
   "cell_type": "markdown",
   "id": "7cd37f0e",
   "metadata": {},
   "source": [
    "# 2. Generate data\n",
    "\n",
    "Bagaimana cara membangkitkan data yang berdistribusi binomial ?"
   ]
  },
  {
   "cell_type": "code",
   "execution_count": 9,
   "id": "b2ade04d",
   "metadata": {},
   "outputs": [],
   "source": [
    "import numpy as np"
   ]
  },
  {
   "cell_type": "code",
   "execution_count": 26,
   "id": "290720bc",
   "metadata": {},
   "outputs": [
    {
     "data": {
      "text/plain": [
       "array([10, 10, 10, 10, 10, 10, 10, 10, 10, 10, 10, 10, 10, 10, 10, 10, 10,\n",
       "       10, 10, 10, 10, 10, 10, 10, 10, 10, 10, 10, 10, 10, 10, 10, 10, 10,\n",
       "       10, 10, 10, 10, 10, 10, 10, 10, 10, 10, 10, 10, 10, 10, 10, 10])"
      ]
     },
     "execution_count": 26,
     "metadata": {},
     "output_type": "execute_result"
    }
   ],
   "source": [
    "\"\"\"\n",
    "Bagaimana jika peluang = 1 ?\n",
    "\n",
    "Menunjukkan bahwa terdapat 10 kali keberhasilan dalam 10 kali percobaan. Misal peluang \n",
    "mendapatkan bilangan bulat pada dadu normal.\n",
    "\n",
    "\"\"\"\n",
    "np.random.binomial(10, 1, 50)"
   ]
  },
  {
   "cell_type": "code",
   "execution_count": 25,
   "id": "65847368",
   "metadata": {},
   "outputs": [
    {
     "data": {
      "text/plain": [
       "array([0, 0, 0, 0, 0, 0, 0, 0, 0, 0, 0, 0, 0, 0, 0, 0, 0, 0, 0, 0, 0, 0,\n",
       "       0, 0, 0, 0, 0, 0, 0, 0, 0, 0, 0, 0, 0, 0, 0, 0, 0, 0, 0, 0, 0, 0,\n",
       "       0, 0, 0, 0, 0, 0])"
      ]
     },
     "execution_count": 25,
     "metadata": {},
     "output_type": "execute_result"
    }
   ],
   "source": [
    "\"\"\"\n",
    "Bagaimana jika peluang = 0 ?\n",
    "\n",
    "Menunjukkan bahwa tidak ada keberhasilan dalam 10 kali percobaan tersebut, karena peluang = 0.\n",
    "Misal peluang mendapatkan angka 7 pada dadu normal.\n",
    "\"\"\"\n",
    "np.random.binomial(10, 0, 50)"
   ]
  },
  {
   "cell_type": "code",
   "execution_count": 23,
   "id": "d20d5887",
   "metadata": {},
   "outputs": [
    {
     "data": {
      "text/plain": [
       "array([4, 5, 7, 5, 6, 4, 6, 9, 4, 1, 8, 5, 3, 6, 8, 7, 5, 4, 3, 6, 8, 7,\n",
       "       6, 6, 6, 6, 5, 5, 5, 6, 2, 2, 1, 5, 4, 6, 8, 5, 4, 3, 5, 4, 5, 5,\n",
       "       7, 7, 8, 4, 8, 5])"
      ]
     },
     "execution_count": 23,
     "metadata": {},
     "output_type": "execute_result"
    }
   ],
   "source": [
    "\"\"\"\n",
    "Hal ini menunjukkan bahwa s[0] = 6, artinya ada 2 keberhasilan dalam 10 kali percobaan.\n",
    "Misal peluang mendapatkan angka 4 pada dadu normal.\n",
    "\"\"\"\n",
    "s = np.random.binomial(n=10, p=0.5, size = 50)\n",
    "s"
   ]
  },
  {
   "cell_type": "markdown",
   "id": "1c6ff2dd",
   "metadata": {},
   "source": [
    "# 3. Graph"
   ]
  },
  {
   "cell_type": "code",
   "execution_count": 35,
   "id": "5c08d2ae",
   "metadata": {},
   "outputs": [],
   "source": [
    "import warnings\n",
    "warnings.filterwarnings(\"ignore\")"
   ]
  },
  {
   "cell_type": "code",
   "execution_count": 36,
   "id": "f1555195",
   "metadata": {},
   "outputs": [],
   "source": [
    "from numpy import random\n",
    "import matplotlib.pyplot as plt\n",
    "import seaborn as sns"
   ]
  },
  {
   "cell_type": "code",
   "execution_count": 37,
   "id": "9c9d51a1",
   "metadata": {},
   "outputs": [],
   "source": [
    "x = random.binomial(n=10, p=0.5, size=1000)"
   ]
  },
  {
   "cell_type": "code",
   "execution_count": 38,
   "id": "ac933941",
   "metadata": {},
   "outputs": [
    {
     "data": {
      "image/png": "[encoded data removed]",
      "text/plain": [
       "<Figure size 640x480 with 1 Axes>"
      ]
     },
     "metadata": {},
     "output_type": "display_data"
    }
   ],
   "source": [
    "sns.distplot(x, hist=True, kde=False)\n",
    "\n",
    "plt.show()"
   ]
  },
  {
   "cell_type": "markdown",
   "id": "6b8d3109",
   "metadata": {},
   "source": [
    "# 4. Case"
   ]
  },
  {
   "cell_type": "markdown",
   "id": "b7b58bc0",
   "metadata": {},
   "source": [
    "Case:\n",
    "\n",
    "Seorang produsen mobil mengklaim bahwa tidak lebih dari 10% mobil mereka yang tidak aman. 15 mobil diperiksa untuk keselamatan, dan 3 di antaranya ditemukan tidak aman. Uji klaim produsen tersebut"
   ]
  },
  {
   "cell_type": "markdown",
   "id": "1563b0df",
   "metadata": {},
   "source": [
    "### 4.1 Uji Hipotesis"
   ]
  },
  {
   "cell_type": "markdown",
   "id": "c876cfb5",
   "metadata": {},
   "source": [
    "Uji Hipotesis\n",
    "\n",
    "- H0 : p <= 10% (proporsi mobil yang tidak aman)\n",
    "- H1 : p > 10% (proporsi mobil yang aman)"
   ]
  },
  {
   "cell_type": "code",
   "execution_count": 46,
   "id": "91629fc0",
   "metadata": {},
   "outputs": [],
   "source": [
    "from scipy.stats import binom_test"
   ]
  },
  {
   "cell_type": "code",
   "execution_count": 45,
   "id": "aefef6eb",
   "metadata": {},
   "outputs": [
    {
     "name": "stdout",
     "output_type": "stream",
     "text": [
      "p-value: 0.18406106910639106\n"
     ]
    }
   ],
   "source": [
    "# Data\n",
    "n_unsafe = 3  # Jumlah mobil yang tidak aman\n",
    "n_total = 15  # Jumlah total mobil yang diperiksa\n",
    "claimed_p = 0.10  # Klaim proporsi mobil yang tidak aman\n",
    "\n",
    "# Melakukan uji binomial\n",
    "# 'greater' mengindikasikan kita menguji apakah proporsi sebenarnya lebih besar dari klaim\n",
    "p_value = binom_test(n_unsafe, n_total, claimed_p, alternative='greater')\n",
    "\n",
    "# Menampilkan hasil\n",
    "print(f\"p-value: {p_value}\")\n"
   ]
  },
  {
   "cell_type": "markdown",
   "id": "1f4869b8",
   "metadata": {},
   "source": [
    "### 4.2 Kesimpulan\n",
    "\n",
    "Karena pvalue (0.18) > 5% (0.05) maka tolak H0, sehingga dapat dikatakan klaim perusahaan tersebut terbukti"
   ]
  },
  {
   "cell_type": "markdown",
   "id": "5583524f",
   "metadata": {},
   "source": [
    "## Reference\n",
    "\n",
    "- https://numpy.org/doc/stable/reference/random/generated/numpy.random.binomial.html\n",
    "- https://docs.scipy.org/doc/scipy/reference/generated/scipy.stats.binom_test.html"
   ]
  },
  {
   "cell_type": "code",
   "execution_count": null,
   "id": "65ef0a93",
   "metadata": {},
   "outputs": [],
   "source": []
  }
 ],
 "metadata": {
  "kernelspec": {
   "display_name": "Python 3 (ipykernel)",
   "language": "python",
   "name": "python3"
  },
  "language_info": {
   "codemirror_mode": {
    "name": "ipython",
    "version": 3
   },
   "file_extension": ".py",
   "mimetype": "text/x-python",
   "name": "python",
   "nbconvert_exporter": "python",
   "pygments_lexer": "ipython3",
   "version": "3.10.10"
  }
 },
 "nbformat": 4,
 "nbformat_minor": 5
}
