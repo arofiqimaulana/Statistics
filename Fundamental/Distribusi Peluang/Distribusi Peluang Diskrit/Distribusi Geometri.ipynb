{
 "cells": [
  {
   "cell_type": "markdown",
   "id": "fdc85b4b",
   "metadata": {},
   "source": [
    "# 1. Distribusi Geometri\n",
    "\n",
    "Distribusi ini menyatakan banyaknya usaha yang harus dilakukan untuk mendapatkan sukses pertama. Dengan kata lain, percobaan bernouli yang diulang berkali-kali sampai didapatkan sukses yang pertama.\n",
    "\n",
    "Bisa dibilang juga bahwa distribusi geometri = distribusi binomial negatif saat k = 1\n",
    "\n",
    "- Melempar Koin:\n",
    "\n",
    "Seseorang terus melempar koin sampai muncul gambar (head) untuk pertama kalinya. Peluang untuk mendapatkan gambar dalam satu lemparan adalah 0.5. Distribusi geometri bisa digunakan untuk menghitung probabilitas bahwa orang tersebut perlu melempar koin sebanyak x kali untuk mendapatkan gambar pertama kali.\n",
    "\n",
    "- Pencarian Pekerjaan:\n",
    "\n",
    "Seseorang yang mencari pekerjaan menghadiri serangkaian wawancara dan memiliki probabilitas 0.2 untuk mendapatkan tawaran pekerjaan setelah setiap wawancara. Distribusi geometri bisa digunakan untuk mencari probabilitas bahwa pencari kerja ini perlu menghadiri x wawancara untuk mendapatkan tawaran pertama.\n",
    "\n",
    "- Penembakan Bola Basket:\n",
    "\n",
    "Seorang pemain bola basket memiliki rata-rata probabilitas 0.75 untuk mencetak setiap tembakan yang diambilnya. Berapa probabilitas bahwa pemain tersebut membutuhkan 4 kali tembakan untuk mencetak poin untuk yang pertama kali?\n",
    "\n",
    "- Mengecek Lampu yang Rusak:\n",
    "\n",
    "Misalkan sebuah perusahaan memproduksi lampu dan memiliki tingkat cacat 5%. Jika kita memeriksa lampu-lampu tersebut satu per satu, distribusi geometri bisa digunakan untuk menentukan probabilitas bahwa kita perlu memeriksa x lampu sebelum menemukan lampu yang cacat pertama kali.\n",
    "\n",
    "- Fishing (Memancing):\n",
    "\n",
    "Seorang pemancing tahu bahwa probabilitas menangkap ikan di sebuah danau adalah 0.3. Dia akan terus mencoba sampai ia menangkap ikan pertamanya. Dalam hal ini, kita bisa menggunakan distribusi geometri untuk menghitung probabilitas bahwa pemancing tersebut harus mencoba x kali sebelum ia menangkap ikan pertama kali.\n",
    "\n",
    "- Pengundian Kartu:\n",
    "\n",
    "Seorang pesulap mencoba mengambil kartu As dari sebuah deck kartu yang telah dikocok dengan baik. Dia akan terus mencoba sampai mendapatkan kartu As untuk pertama kali. Probabilitas mendapatkan kartu As dalam satu kali pengambilan adalah 1/13, dan kita bisa menggunakan distribusi geometri untuk menghitung peluangnya butuh x kali pengambilan untuk mendapatkan kartu As pertama kali.\n",
    "\n",
    "Perlu diingat bahwa distribusi geometri selalu berkaitan dengan jumlah percobaan yang dibutuhkan untuk mencapai keberhasilan pertama. Pada banyak aplikasi di dunia nyata, kita sering menemukan contoh-contoh di mana distribusi ini dapat diaplikasikan."
   ]
  },
  {
   "cell_type": "markdown",
   "id": "49e107a6",
   "metadata": {},
   "source": [
    "# 2. Generate Data\n",
    "\n",
    "Bagaimana cara membangkitkan data yang berdistribusi Geometri ?"
   ]
  },
  {
   "cell_type": "code",
   "execution_count": 21,
   "id": "d82aa044",
   "metadata": {},
   "outputs": [],
   "source": [
    "import numpy as np\n",
    "import matplotlib.pyplot as plt\n",
    "from scipy.stats import geom"
   ]
  },
  {
   "cell_type": "markdown",
   "id": "9238784e",
   "metadata": {},
   "source": [
    "- scipy.stats.geom.pmf(k, p, loc=0)\n",
    "- scipy.stats.geom.cdf(k, p, loc=0)\n",
    "- scipy.stats.geom.ppf(q, p, loc=0)\n",
    "- scipy.stats.geom.rvs(p, loc=0, size=1)"
   ]
  },
  {
   "cell_type": "code",
   "execution_count": 4,
   "id": "095a7c15",
   "metadata": {},
   "outputs": [],
   "source": [
    "# Definisikan parameter\n",
    "p = 0.2  # Probabilitas keberhasilan\n",
    "size = 1000  # Jumlah sampel yang akan dihasilkan\n",
    "\n",
    "# Bangkitkan sampel data\n",
    "data = np.random.geometric(p, size)"
   ]
  },
  {
   "cell_type": "code",
   "execution_count": 6,
   "id": "9d4c555d",
   "metadata": {},
   "outputs": [
    {
     "data": {
      "text/plain": [
       "array([ 4,  2,  2,  3,  4,  1, 13,  4,  6,  1, 14,  3,  5,  8,  5, 10, 18,\n",
       "        2,  1,  6, 10,  1,  8,  2,  3,  2,  3,  1,  2, 10,  2,  4,  2,  5,\n",
       "        2,  1,  5,  8,  5,  6,  2,  3,  3,  5,  1,  1,  1,  5,  2,  1,  2,\n",
       "        5, 14,  3,  2,  7,  1,  1,  4,  4,  2,  7,  2,  1, 11,  5,  3,  9,\n",
       "        3,  2, 14,  2, 13,  5,  1,  9, 10,  8,  2,  7,  2, 12,  6,  8, 16,\n",
       "        8,  4,  5, 15, 16,  8,  2, 24, 16,  6,  1, 10,  6, 22,  3,  1,  4,\n",
       "        4,  2,  2,  8,  2,  6,  3,  3,  3, 15,  2,  2,  9,  1,  4,  2,  4,\n",
       "        3,  3,  2,  2,  1,  3,  7,  8,  3,  3,  1,  1, 14,  2,  4,  6, 12,\n",
       "        4, 13, 29,  4,  2,  6,  1,  1,  4,  9,  9,  6,  6,  4,  4,  3,  1,\n",
       "        4,  6,  2,  1, 11,  1,  3,  3,  9, 17, 18,  5, 15,  1,  6, 10,  4,\n",
       "        4, 11,  3,  6,  3,  5,  1,  4,  8,  2,  5,  4,  8, 11,  2,  4,  5,\n",
       "        1, 12,  2,  3,  3,  1,  7,  2,  4, 16,  1,  3,  1,  3, 10,  3,  2,\n",
       "        1,  1, 15,  6,  2,  5,  2, 12, 17,  8,  2, 14, 12,  3,  6,  8,  1,\n",
       "        1,  4,  1,  5,  8,  2,  8,  8,  1,  1,  1,  8,  4,  2,  3,  3,  3,\n",
       "        1,  1,  4,  2, 23,  7,  2,  1,  1,  4,  1,  3,  1,  1,  2,  5,  3,\n",
       "        8,  6,  4,  4,  8,  2,  3,  7,  7,  9,  3,  8,  2,  1,  3,  3,  1,\n",
       "        2,  2, 24,  4,  2,  6,  6,  2,  1,  2,  7,  1,  1,  3, 12,  8,  3,\n",
       "        5,  3, 17,  4,  6, 14,  7, 10,  2, 10,  6,  8,  1,  2,  5, 11,  6,\n",
       "        7,  5,  6,  1,  5,  7, 19,  8, 15,  4,  3,  2, 12,  6, 26,  6,  2,\n",
       "        3,  1,  5,  8,  2,  6,  3,  1,  7,  9,  6,  2,  2,  9,  1,  1,  1,\n",
       "        1,  1,  3,  5,  1,  7,  1,  2,  6,  1, 12,  1,  2,  1,  4,  2,  2,\n",
       "        2,  6,  3,  6,  5,  2, 11,  2,  5,  1,  6, 11,  1,  1,  8, 12,  2,\n",
       "        2,  2,  1, 12,  4,  4,  4,  1,  2,  3,  1,  4,  4,  1,  4,  3,  1,\n",
       "       25,  4,  1,  1,  4,  4,  2,  9,  2,  2,  2,  2,  2,  3,  2,  1,  7,\n",
       "       11,  7,  1,  1, 12,  5,  4,  8,  2,  2,  6,  6,  4,  5,  2,  4,  1,\n",
       "        4,  3,  2,  8,  2,  5, 11,  6,  6,  3,  3,  6,  6, 21,  3,  8,  3,\n",
       "        9,  2,  6,  1,  2,  1,  6,  5,  2,  1,  3,  2,  3,  4,  1,  3,  5,\n",
       "        4,  2,  4,  2,  5,  1,  4,  1,  1,  1,  1,  6,  3,  6,  4,  2,  5,\n",
       "        5,  1,  8,  2,  5,  2,  1, 18,  9,  8,  4,  8,  9,  4,  6,  1,  3,\n",
       "        1,  5,  5,  4, 17,  1,  3, 14,  5,  4,  9,  1,  7,  3,  6,  3, 14,\n",
       "        2,  1,  2,  1,  1,  3,  7,  2,  4, 15,  6,  2,  1,  7,  4,  6,  2,\n",
       "        7,  4,  3,  5,  1,  5,  1,  4,  3, 10, 15,  1,  4,  7,  7,  6,  4,\n",
       "        2,  3,  2,  3,  9,  4,  2,  2,  3,  4,  8,  1,  3,  8,  5,  6,  1,\n",
       "        8,  5,  3,  1,  8,  5,  7,  1,  5, 11,  6, 13,  8,  2,  3,  1,  1,\n",
       "        1, 17,  6,  1,  8,  9,  2,  2,  2,  2, 10,  1,  2, 13, 20, 23,  1,\n",
       "        4,  1,  3, 12,  2,  1, 13,  1,  9,  1,  2,  9,  1,  4,  6,  8,  5,\n",
       "        1,  5,  1,  4,  4,  4, 15,  7, 13, 13,  3,  1, 11,  3,  2,  2,  3,\n",
       "        3,  1,  1, 14,  1,  4,  4,  1,  6,  2, 14,  1,  7,  2,  2,  9,  7,\n",
       "        9,  4,  2,  3,  4, 17,  1,  5,  1,  3, 12,  4,  2,  4,  3,  3,  1,\n",
       "        2,  3,  1,  5,  1,  3,  2,  3,  1,  1,  3,  1, 19, 12, 15,  1,  4,\n",
       "        2,  5,  1,  1,  6,  1,  1,  1,  8,  1,  6,  5,  1,  3,  4,  4,  6,\n",
       "        4,  1,  2,  3,  9,  3,  9,  1,  1,  5,  3,  1, 27,  2,  2,  2,  5,\n",
       "        3,  5,  2,  4, 11,  2,  7, 13,  3,  6, 16,  1,  9, 10,  1,  4,  1,\n",
       "        3,  4, 18, 11,  8,  4,  5,  1,  7, 20,  5,  2,  3, 13,  2,  3,  1,\n",
       "        2,  3,  2,  4,  1,  1,  8,  5,  2,  5,  1,  3,  6,  3,  5,  1,  2,\n",
       "        6,  2,  2,  1, 12,  5,  2,  1,  4,  9,  2,  1,  5,  2,  3,  2,  5,\n",
       "        7,  3,  9,  4,  9,  7,  5,  2, 13,  9,  4,  4,  9,  5,  5,  1, 15,\n",
       "        2, 12,  3,  2,  6,  2, 13,  7,  3,  7,  1,  2,  2,  5,  3,  9,  6,\n",
       "        3,  9,  2,  7,  7,  4,  3,  4,  4,  2,  2,  8,  4,  4,  5,  7,  4,\n",
       "        2,  2, 11,  6, 18, 12,  3,  5,  9,  6,  1, 10,  5,  7,  2,  6,  4,\n",
       "        9,  6,  4,  1,  3,  1,  2,  5,  2,  2,  6,  8,  5,  1,  3,  2,  2,\n",
       "        1,  2,  2,  3,  3,  1,  2,  4,  3, 17,  9,  2,  4,  3,  4,  1,  1,\n",
       "        1,  8,  1,  3,  5,  2,  7,  2,  5,  1,  3,  5,  6,  1,  8,  6,  1,\n",
       "        5,  6,  2,  4,  1,  8,  4,  1,  4,  1,  4,  5,  2,  1,  1,  4,  2,\n",
       "       17,  4,  4, 16,  7,  1,  7,  3,  2,  6,  3,  7,  6,  6, 11,  4,  1,\n",
       "        2,  4,  7,  3,  3,  7,  1,  7,  1, 10,  7,  5,  9,  4,  1,  2,  2,\n",
       "        1,  6,  9,  7,  1,  9,  3, 10,  9,  7,  4, 12,  3,  3,  1,  3,  3,\n",
       "       11,  2,  1,  1, 19,  4,  7,  3, 14, 12,  7,  1,  3, 10,  1,  8, 11,\n",
       "        9,  6,  1, 12,  1,  2,  3, 21, 11,  9, 12,  3,  2, 19])"
      ]
     },
     "execution_count": 6,
     "metadata": {},
     "output_type": "execute_result"
    }
   ],
   "source": [
    "data"
   ]
  },
  {
   "cell_type": "markdown",
   "id": "0349b41a",
   "metadata": {},
   "source": [
    "# 3. Graph"
   ]
  },
  {
   "cell_type": "code",
   "execution_count": 5,
   "id": "4c31dfe4",
   "metadata": {},
   "outputs": [
    {
     "data": {
      "image/png": "[encoded data removed]",
      "text/plain": [
       "<Figure size 640x480 with 1 Axes>"
      ]
     },
     "metadata": {},
     "output_type": "display_data"
    }
   ],
   "source": [
    "# Visualisasikan data dengan histogram\n",
    "plt.hist(data, bins=max(data), density=True, alpha=0.75, color='blue')\n",
    "plt.title('Geometric Distributed Data')\n",
    "plt.xlabel('Number of Trials')\n",
    "plt.ylabel('Frequency')\n",
    "plt.show()"
   ]
  },
  {
   "cell_type": "markdown",
   "id": "60dab038",
   "metadata": {},
   "source": [
    "# 4. Case"
   ]
  },
  {
   "cell_type": "markdown",
   "id": "caec2625",
   "metadata": {},
   "source": [
    "### Case 1"
   ]
  },
  {
   "cell_type": "markdown",
   "id": "2df9416b",
   "metadata": {},
   "source": [
    "Pada proses manufaktur tertentu, diketahui rata-rata terdapat 1 dari 100 barang yang rusak. Berapa peluang bahwa barang kelima yang diinspeksi merupakan barang pertama yang cacat?"
   ]
  },
  {
   "cell_type": "code",
   "execution_count": 7,
   "id": "48dff6a2",
   "metadata": {},
   "outputs": [],
   "source": [
    "from scipy.stats import geom"
   ]
  },
  {
   "cell_type": "code",
   "execution_count": 11,
   "id": "aa4614b7",
   "metadata": {},
   "outputs": [],
   "source": [
    "p = 1/100\n",
    "prob = geom.pmf(p=0.01,k=5)"
   ]
  },
  {
   "cell_type": "code",
   "execution_count": 13,
   "id": "ceece202",
   "metadata": {},
   "outputs": [
    {
     "data": {
      "text/plain": [
       "0.0096059601"
      ]
     },
     "execution_count": 13,
     "metadata": {},
     "output_type": "execute_result"
    }
   ],
   "source": [
    "\"\"\"\n",
    "Jadi peluang arang kelima yang diinspeksi merupakan barang pertama yang cacat adalah 0.0096\n",
    "\"\"\"\n",
    "prob"
   ]
  },
  {
   "cell_type": "markdown",
   "id": "0b4aee81",
   "metadata": {},
   "source": [
    "### Case 2"
   ]
  },
  {
   "cell_type": "markdown",
   "id": "a1522254",
   "metadata": {},
   "source": [
    "Peluang bahwa seorang calon pilot lolos tes tertulis dalam rangka untuk mendapatkan surat izin mengemudi adalah 0.7. Tentukan peluang bahwa seorang calon pilot lolos tes tertulis tersebut:\n",
    "\n",
    "- saat percobaan keempat;\n",
    "- sebelum percobaan ketiga.\n",
    "- kurang dari tiga percobaan\n",
    "- lebih dari lima percobaan"
   ]
  },
  {
   "cell_type": "code",
   "execution_count": 20,
   "id": "18d102d6",
   "metadata": {},
   "outputs": [],
   "source": [
    "prob_4 = geom.pmf(p=0.7,k=4) #saat percobaan keempat\n",
    "prob_3 = geom.pmf(p=0.7,k=3) #sebelum percobaan ketiga\n",
    "prob_less_than3 = geom.cdf(2, p) # P(X<3)=P(X<=2)\n",
    "prob_more_than5 = 1- geom.cdf(5, p) # P(X>5)=1-p(X<=5)"
   ]
  },
  {
   "cell_type": "code",
   "execution_count": 16,
   "id": "121ae423",
   "metadata": {},
   "outputs": [
    {
     "data": {
      "text/plain": [
       "0.018900000000000007"
      ]
     },
     "execution_count": 16,
     "metadata": {},
     "output_type": "execute_result"
    }
   ],
   "source": [
    "\"\"\"\n",
    "Jadi peluang seorang calon pilot lolos tes tertulis saat percobaan ke empat adalah 0.0189\n",
    "\"\"\"\n",
    "prob_4"
   ]
  },
  {
   "cell_type": "code",
   "execution_count": 18,
   "id": "0d43819b",
   "metadata": {},
   "outputs": [
    {
     "data": {
      "text/plain": [
       "0.06300000000000001"
      ]
     },
     "execution_count": 18,
     "metadata": {},
     "output_type": "execute_result"
    }
   ],
   "source": [
    "\"\"\"\n",
    "Jadi peluang seorang calon pilot lolos tes tertulis saat percobaan ke tiga adalah 0.0630\n",
    "\"\"\"\n",
    "prob_3"
   ]
  },
  {
   "cell_type": "markdown",
   "id": "fc5a4059",
   "metadata": {},
   "source": [
    "# Reference\n",
    "- https://www.alphacodingskills.com/scipy/scipy-geometric-distribution.php\n",
    "- https://mathcyber1997.com/distribusi-geometrik-binomial-negatif/"
   ]
  },
  {
   "cell_type": "code",
   "execution_count": null,
   "id": "7be1f62e",
   "metadata": {},
   "outputs": [],
   "source": []
  }
 ],
 "metadata": {
  "kernelspec": {
   "display_name": "Python 3 (ipykernel)",
   "language": "python",
   "name": "python3"
  },
  "language_info": {
   "codemirror_mode": {
    "name": "ipython",
    "version": 3
   },
   "file_extension": ".py",
   "mimetype": "text/x-python",
   "name": "python",
   "nbconvert_exporter": "python",
   "pygments_lexer": "ipython3",
   "version": "3.10.10"
  }
 },
 "nbformat": 4,
 "nbformat_minor": 5
}
