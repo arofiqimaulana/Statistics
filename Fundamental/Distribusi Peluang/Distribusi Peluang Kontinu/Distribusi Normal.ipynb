{
 "cells": [
  {
   "cell_type": "markdown",
   "id": "6cbf795f",
   "metadata": {},
   "source": [
    "# Distribusi Normal\n",
    "Distribusi normal, atau distribusi Gauss, adalah distribusi probabilitas yang memiliki bentuk bel kurva. Dalam konteks praktis, distribusi normal sering muncul dan diaplikasikan di berbagai bidang dalam kehidupan sehari-hari. Berikut adalah beberapa contoh penerapan distribusi normal:\n",
    "\n",
    "### 1. Pengukuran Fisik Manusia:\n",
    "- **Tinggi Badan**: Distribusi tinggi badan manusia sering mengikuti distribusi normal. Misalnya, tinggi badan pria dewasa di suatu negara dapat terdistribusi secara normal dengan rerata \\(175 \\, \\text{cm}\\) dan simpangan baku \\(8 \\, \\text{cm}\\).\n",
    "- **Berat Badan**: Serupa dengan tinggi badan, berat badan populasi juga cenderung mengikuti distribusi normal.\n",
    "\n",
    "### 2. Pengukuran Kecerdasan (IQ):\n",
    "- **IQ Score**: Skor IQ umumnya terdistribusi secara normal dengan rerata \\(100\\) dan simpangan baku \\(15\\). Artinya, sebagian besar orang memiliki IQ yang berada di sekitar nilai rerata, sedangkan jumlah orang dengan IQ sangat tinggi atau sangat rendah lebih sedikit.\n",
    "\n",
    "### 3. Pengujian Produk:\n",
    "- **Kualitas Produk**: Misalnya, diameter lubang yang dibor oleh sebuah mesin untuk pembuatan baut. Meskipun target mungkin adalah \\(10 \\, \\text{mm}\\), namun ada variasi kecil yang diperbolehkan karena ketidaksempurnaan proses manufaktur.\n",
    "\n",
    "### 4. Hasil Ujian atau Nilai Akademik:\n",
    "- **Nilai Ujian**: Nilai ujian siswa pada suatu mata pelajaran sering mengikuti distribusi normal, di mana sebagian besar siswa mendapat nilai di sekitar rerata, dan hanya sedikit yang mendapat nilai sangat tinggi atau sangat rendah.\n",
    "\n",
    "### 5. Fenomena Alam:\n",
    "- **Curah Hujan**: Dalam meteorologi, distribusi normal dapat digunakan untuk memodelkan pola curah hujan tahunan atau bulanan di suatu wilayah.\n",
    "  \n",
    "### 6. Pasar Keuangan:\n",
    "- **Harga Saham**: Return saham atau aset keuangan lainnya dalam jangka waktu tertentu sering diasumsikan mengikuti distribusi normal dalam berbagai model keuangan, meskipun ini bisa menjadi aproksimasi kasar.\n",
    "\n",
    "### 7. Pengendalian Kualitas:\n",
    "- **Pengendalian Proses**: Dalam pengendalian kualitas industri, variasi dalam proses produksi sering dianggap mengikuti distribusi normal, yang membantu dalam membuat keputusan mengenai kontrol proses.\n",
    "\n",
    "### 8. Penelitian Ilmiah:\n",
    "- **Hasil Eksperimen**: Dalam biologi, psikologi, dan disiplin lainnya, hasil pengukuran eksperimental seringkali, meskipun tidak selalu, mendekati distribusi normal.\n",
    "\n",
    "### 9. Demografi:\n",
    "- **Distribusi Pendapatan**: Meskipun tidak selalu sempurna, distribusi pendapatan dalam ekonomi seringkali diaproximasi dengan menggunakan distribusi normal logaritmik.\n",
    "\n",
    "### 10. Riset Pasar:\n",
    "- **Preferensi Konsumen**: Respons dan preferensi konsumen terhadap suatu produk atau layanan terkadang dapat dianalisis dengan menggunakan distribusi normal untuk memahami pola pembelian dan target pasar yang potensial.\n",
    "\n",
    "Meskipun distribusi normal sering digunakan dalam berbagai konteks karena sifatnya yang matematis yang nyaman dan banyaknya metode statistik yang mengandalkannya, penting untuk dicatat bahwa tidak semua fenomena dapat atau harus dimodelkan dengan distribusi normal. Selalu penting untuk memeriksa asumsi normalitas dengan data yang aktual."
   ]
  },
  {
   "cell_type": "code",
   "execution_count": null,
   "id": "9b8561f4",
   "metadata": {},
   "outputs": [],
   "source": []
  },
  {
   "cell_type": "markdown",
   "id": "1cf8e643",
   "metadata": {},
   "source": [
    "# 2. Generate Data\n",
    "\n",
    "Bagaimana cara membangkitkan data yang berdistribusi Normal ?"
   ]
  },
  {
   "cell_type": "code",
   "execution_count": 6,
   "id": "8d40d485",
   "metadata": {},
   "outputs": [],
   "source": [
    "from scipy.stats import norm\n",
    "import matplotlib.pyplot as plt\n",
    "import numpy as np\n",
    "\n",
    "#fixing the seed for reproducibility\n",
    "#of the result\n",
    "np.random.seed(10)\n",
    "\n",
    "#creating a vector containing 10000\n",
    "#normally distributed random numbers\n",
    "# loc=mu\n",
    "# scale=standard deviation\n",
    "y = norm.rvs(loc=0, scale=1, size=10000)"
   ]
  },
  {
   "cell_type": "markdown",
   "id": "1fea12ae",
   "metadata": {},
   "source": [
    "# 3. Graph"
   ]
  },
  {
   "cell_type": "code",
   "execution_count": 7,
   "id": "ef86a151",
   "metadata": {},
   "outputs": [
    {
     "data": {
      "image/png": "[encoded data removed]",
      "text/plain": [
       "<Figure size 640x480 with 1 Axes>"
      ]
     },
     "metadata": {},
     "output_type": "display_data"
    }
   ],
   "source": [
    "#creating bin\n",
    "bin = np.arange(-4,4,0.1)  \n",
    "\n",
    "plt.hist(y, bins=bin, edgecolor='blue') \n",
    "plt.show()"
   ]
  },
  {
   "cell_type": "markdown",
   "id": "2090227d",
   "metadata": {},
   "source": [
    "# 4. Case"
   ]
  },
  {
   "cell_type": "markdown",
   "id": "48938078",
   "metadata": {},
   "source": [
    "Distribusi tingkat kolesterol pada remaja pria bisa didekati oleh distribusi normal dengan mu = 180 dan standard deviasi = 30. Peluang bahwa seorang remaja pria memiliki tingkat kolesterol lebih besar daripada 200 adalah "
   ]
  },
  {
   "cell_type": "markdown",
   "id": "e1006bda",
   "metadata": {},
   "source": [
    "Function\n",
    "\n",
    "- scipy.stats.norm.pdf(x, loc=0, scale=1)\n",
    "- scipy.stats.norm.cdf(x, loc=0, scale=1)\n",
    "- scipy.stats.norm.ppf(q, loc=0, scale=1)\n",
    "- scipy.stats.norm.rvs(loc=0, scale=1, size=1)"
   ]
  },
  {
   "cell_type": "code",
   "execution_count": 8,
   "id": "b08d5896",
   "metadata": {},
   "outputs": [],
   "source": [
    "from scipy.stats import norm"
   ]
  },
  {
   "cell_type": "code",
   "execution_count": 20,
   "id": "ce3e68f3",
   "metadata": {},
   "outputs": [
    {
     "data": {
      "text/plain": [
       "0.6666666666666666"
      ]
     },
     "execution_count": 20,
     "metadata": {},
     "output_type": "execute_result"
    }
   ],
   "source": [
    "# Parameter distribusi\n",
    "mu = 180  # Rerata\n",
    "sigma = 30  # Simpangan baku\n",
    "\n",
    "# Nilai batas\n",
    "x = 200\n",
    "\n",
    "# Menghitung nilai z\n",
    "z = (x - mu) / sigma\n",
    "z"
   ]
  },
  {
   "cell_type": "code",
   "execution_count": 21,
   "id": "95f6773e",
   "metadata": {},
   "outputs": [
    {
     "data": {
      "text/plain": [
       "0.2524925375469229"
      ]
     },
     "execution_count": 21,
     "metadata": {},
     "output_type": "execute_result"
    }
   ],
   "source": [
    "#P(X>=300)=1-P(X<300)=1-P(Z<4)\n",
    "prob = 1- norm.cdf(z)\n",
    "prob"
   ]
  },
  {
   "cell_type": "code",
   "execution_count": 22,
   "id": "a63736c9",
   "metadata": {},
   "outputs": [
    {
     "data": {
      "text/plain": [
       "0.2524925375469229"
      ]
     },
     "execution_count": 22,
     "metadata": {},
     "output_type": "execute_result"
    }
   ],
   "source": [
    "\"\"\"\n",
    "Jadi Peluang bahwa seorang remaja pria memiliki tingkat kolesterol lebih besar \n",
    "daripada 300 adalah 0.252\n",
    "\"\"\"\n",
    "prob"
   ]
  },
  {
   "cell_type": "markdown",
   "id": "2add5186",
   "metadata": {},
   "source": [
    "# Reference\n",
    "- https://www.alphacodingskills.com/scipy/scipy-normal-distribution.php"
   ]
  }
 ],
 "metadata": {
  "kernelspec": {
   "display_name": "Python 3 (ipykernel)",
   "language": "python",
   "name": "python3"
  },
  "language_info": {
   "codemirror_mode": {
    "name": "ipython",
    "version": 3
   },
   "file_extension": ".py",
   "mimetype": "text/x-python",
   "name": "python",
   "nbconvert_exporter": "python",
   "pygments_lexer": "ipython3",
   "version": "3.10.10"
  }
 },
 "nbformat": 4,
 "nbformat_minor": 5
}
